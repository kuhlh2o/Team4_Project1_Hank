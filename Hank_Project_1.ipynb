{
 "cells": [
  {
   "cell_type": "code",
   "execution_count": 1,
   "metadata": {},
   "outputs": [],
   "source": [
    "import pandas as pd\n",
    "import numpy as np\n",
    "import matplotlib.pyplot as plt\n",
    "import seaborn as sns"
   ]
  },
  {
   "cell_type": "code",
   "execution_count": 2,
   "metadata": {},
   "outputs": [
    {
     "name": "stderr",
     "output_type": "stream",
     "text": [
      "C:\\ProgramData\\Anaconda3\\lib\\site-packages\\IPython\\core\\interactiveshell.py:3020: DtypeWarning: Columns (19) have mixed types. Specify dtype option on import or set low_memory=False.\n",
      "  interactivity=interactivity, compiler=compiler, result=result)\n"
     ]
    },
    {
     "data": {
      "text/html": [
       "<div>\n",
       "<style scoped>\n",
       "    .dataframe tbody tr th:only-of-type {\n",
       "        vertical-align: middle;\n",
       "    }\n",
       "\n",
       "    .dataframe tbody tr th {\n",
       "        vertical-align: top;\n",
       "    }\n",
       "\n",
       "    .dataframe thead th {\n",
       "        text-align: right;\n",
       "    }\n",
       "</style>\n",
       "<table border=\"1\" class=\"dataframe\">\n",
       "  <thead>\n",
       "    <tr style=\"text-align: right;\">\n",
       "      <th></th>\n",
       "      <th>Unnamed: 0</th>\n",
       "      <th>113_cause_recode</th>\n",
       "      <th>130_infant_cause_recode</th>\n",
       "      <th>358_cause_recode</th>\n",
       "      <th>39_cause_recode</th>\n",
       "      <th>Unnamed: 0.1</th>\n",
       "      <th>Unnamed: 0.1.1</th>\n",
       "      <th>activity_code</th>\n",
       "      <th>age_recode_12</th>\n",
       "      <th>age_recode_27</th>\n",
       "      <th>...</th>\n",
       "      <th>injury_at_work</th>\n",
       "      <th>manner_of_death</th>\n",
       "      <th>marital_status</th>\n",
       "      <th>method_of_disposition</th>\n",
       "      <th>month_of_death</th>\n",
       "      <th>place_of_death_and_decedents_status</th>\n",
       "      <th>race_recode_3</th>\n",
       "      <th>race_recode_5</th>\n",
       "      <th>resident_status</th>\n",
       "      <th>sex</th>\n",
       "    </tr>\n",
       "  </thead>\n",
       "  <tbody>\n",
       "    <tr>\n",
       "      <th>0</th>\n",
       "      <td>0</td>\n",
       "      <td>67</td>\n",
       "      <td>NaN</td>\n",
       "      <td>NaN</td>\n",
       "      <td>NaN</td>\n",
       "      <td>12710949</td>\n",
       "      <td>12710949.0</td>\n",
       "      <td>NaN</td>\n",
       "      <td>NaN</td>\n",
       "      <td>NaN</td>\n",
       "      <td>...</td>\n",
       "      <td>U</td>\n",
       "      <td>7.0</td>\n",
       "      <td>W</td>\n",
       "      <td>U</td>\n",
       "      <td>10</td>\n",
       "      <td>6</td>\n",
       "      <td>NaN</td>\n",
       "      <td>1</td>\n",
       "      <td>1</td>\n",
       "      <td>M</td>\n",
       "    </tr>\n",
       "    <tr>\n",
       "      <th>1</th>\n",
       "      <td>1</td>\n",
       "      <td>95</td>\n",
       "      <td>NaN</td>\n",
       "      <td>NaN</td>\n",
       "      <td>NaN</td>\n",
       "      <td>4686059</td>\n",
       "      <td>4686059.0</td>\n",
       "      <td>NaN</td>\n",
       "      <td>NaN</td>\n",
       "      <td>NaN</td>\n",
       "      <td>...</td>\n",
       "      <td>U</td>\n",
       "      <td>7.0</td>\n",
       "      <td>D</td>\n",
       "      <td>C</td>\n",
       "      <td>9</td>\n",
       "      <td>1</td>\n",
       "      <td>NaN</td>\n",
       "      <td>1</td>\n",
       "      <td>1</td>\n",
       "      <td>M</td>\n",
       "    </tr>\n",
       "    <tr>\n",
       "      <th>2</th>\n",
       "      <td>2</td>\n",
       "      <td>70</td>\n",
       "      <td>NaN</td>\n",
       "      <td>NaN</td>\n",
       "      <td>NaN</td>\n",
       "      <td>6762380</td>\n",
       "      <td>6762380.0</td>\n",
       "      <td>NaN</td>\n",
       "      <td>NaN</td>\n",
       "      <td>NaN</td>\n",
       "      <td>...</td>\n",
       "      <td>U</td>\n",
       "      <td>7.0</td>\n",
       "      <td>D</td>\n",
       "      <td>C</td>\n",
       "      <td>11</td>\n",
       "      <td>4</td>\n",
       "      <td>NaN</td>\n",
       "      <td>1</td>\n",
       "      <td>1</td>\n",
       "      <td>F</td>\n",
       "    </tr>\n",
       "    <tr>\n",
       "      <th>3</th>\n",
       "      <td>3</td>\n",
       "      <td>68</td>\n",
       "      <td>NaN</td>\n",
       "      <td>NaN</td>\n",
       "      <td>NaN</td>\n",
       "      <td>12325960</td>\n",
       "      <td>12325960.0</td>\n",
       "      <td>NaN</td>\n",
       "      <td>NaN</td>\n",
       "      <td>NaN</td>\n",
       "      <td>...</td>\n",
       "      <td>U</td>\n",
       "      <td>7.0</td>\n",
       "      <td>M</td>\n",
       "      <td>B</td>\n",
       "      <td>1</td>\n",
       "      <td>4</td>\n",
       "      <td>NaN</td>\n",
       "      <td>1</td>\n",
       "      <td>1</td>\n",
       "      <td>M</td>\n",
       "    </tr>\n",
       "    <tr>\n",
       "      <th>4</th>\n",
       "      <td>4</td>\n",
       "      <td>24</td>\n",
       "      <td>NaN</td>\n",
       "      <td>NaN</td>\n",
       "      <td>NaN</td>\n",
       "      <td>491263</td>\n",
       "      <td>491263.0</td>\n",
       "      <td>NaN</td>\n",
       "      <td>NaN</td>\n",
       "      <td>NaN</td>\n",
       "      <td>...</td>\n",
       "      <td>U</td>\n",
       "      <td>7.0</td>\n",
       "      <td>M</td>\n",
       "      <td>B</td>\n",
       "      <td>4</td>\n",
       "      <td>4</td>\n",
       "      <td>NaN</td>\n",
       "      <td>1</td>\n",
       "      <td>1</td>\n",
       "      <td>M</td>\n",
       "    </tr>\n",
       "  </tbody>\n",
       "</table>\n",
       "<p>5 rows × 31 columns</p>\n",
       "</div>"
      ],
      "text/plain": [
       "   Unnamed: 0  113_cause_recode  130_infant_cause_recode  358_cause_recode  \\\n",
       "0           0                67                      NaN               NaN   \n",
       "1           1                95                      NaN               NaN   \n",
       "2           2                70                      NaN               NaN   \n",
       "3           3                68                      NaN               NaN   \n",
       "4           4                24                      NaN               NaN   \n",
       "\n",
       "   39_cause_recode  Unnamed: 0.1  Unnamed: 0.1.1  activity_code  \\\n",
       "0              NaN      12710949      12710949.0            NaN   \n",
       "1              NaN       4686059       4686059.0            NaN   \n",
       "2              NaN       6762380       6762380.0            NaN   \n",
       "3              NaN      12325960      12325960.0            NaN   \n",
       "4              NaN        491263        491263.0            NaN   \n",
       "\n",
       "   age_recode_12  age_recode_27 ...  injury_at_work manner_of_death  \\\n",
       "0            NaN            NaN ...               U             7.0   \n",
       "1            NaN            NaN ...               U             7.0   \n",
       "2            NaN            NaN ...               U             7.0   \n",
       "3            NaN            NaN ...               U             7.0   \n",
       "4            NaN            NaN ...               U             7.0   \n",
       "\n",
       "   marital_status  method_of_disposition  month_of_death  \\\n",
       "0               W                      U              10   \n",
       "1               D                      C               9   \n",
       "2               D                      C              11   \n",
       "3               M                      B               1   \n",
       "4               M                      B               4   \n",
       "\n",
       "   place_of_death_and_decedents_status  race_recode_3  race_recode_5  \\\n",
       "0                                    6            NaN              1   \n",
       "1                                    1            NaN              1   \n",
       "2                                    4            NaN              1   \n",
       "3                                    4            NaN              1   \n",
       "4                                    4            NaN              1   \n",
       "\n",
       "   resident_status sex  \n",
       "0                1   M  \n",
       "1                1   M  \n",
       "2                1   F  \n",
       "3                1   M  \n",
       "4                1   M  \n",
       "\n",
       "[5 rows x 31 columns]"
      ]
     },
     "execution_count": 2,
     "metadata": {},
     "output_type": "execute_result"
    }
   ],
   "source": [
    "# Bring in the 10 years of sample data\n",
    "data_file = r\"d:\\Desktop\\Team_4\\sample5death05_15.csv\"\n",
    "data_file_pd = pd.read_csv(data_file)\n",
    "data_df = pd.DataFrame(data_file_pd)\n",
    "data_df.head()"
   ]
  },
  {
   "cell_type": "code",
   "execution_count": 3,
   "metadata": {},
   "outputs": [
    {
     "data": {
      "text/plain": [
       "Index(['Unnamed: 0', '113_cause_recode', '130_infant_cause_recode',\n",
       "       '358_cause_recode', '39_cause_recode', 'Unnamed: 0.1', 'Unnamed: 0.1.1',\n",
       "       'activity_code', 'age_recode_12', 'age_recode_27', 'age_recode_52',\n",
       "       'autopsy', 'current_data_year', 'day_of_week_of_death', 'detail_age',\n",
       "       'detail_age_type', 'education_2003_revision', 'hispanic_origin',\n",
       "       'hispanic_originrace_recode', 'icd_code_10th_revision',\n",
       "       'infant_age_recode_22', 'injury_at_work', 'manner_of_death',\n",
       "       'marital_status', 'method_of_disposition', 'month_of_death',\n",
       "       'place_of_death_and_decedents_status', 'race_recode_3', 'race_recode_5',\n",
       "       'resident_status', 'sex'],\n",
       "      dtype='object')"
      ]
     },
     "execution_count": 3,
     "metadata": {},
     "output_type": "execute_result"
    }
   ],
   "source": [
    "data_df.columns"
   ]
  },
  {
   "cell_type": "code",
   "execution_count": 4,
   "metadata": {},
   "outputs": [
    {
     "data": {
      "text/html": [
       "<div>\n",
       "<style scoped>\n",
       "    .dataframe tbody tr th:only-of-type {\n",
       "        vertical-align: middle;\n",
       "    }\n",
       "\n",
       "    .dataframe tbody tr th {\n",
       "        vertical-align: top;\n",
       "    }\n",
       "\n",
       "    .dataframe thead th {\n",
       "        text-align: right;\n",
       "    }\n",
       "</style>\n",
       "<table border=\"1\" class=\"dataframe\">\n",
       "  <thead>\n",
       "    <tr style=\"text-align: right;\">\n",
       "      <th></th>\n",
       "      <th>113_cause_recode</th>\n",
       "      <th>cause_group</th>\n",
       "    </tr>\n",
       "  </thead>\n",
       "  <tbody>\n",
       "    <tr>\n",
       "      <th>0</th>\n",
       "      <td>1</td>\n",
       "      <td>Salmonella infections (A01-A02)</td>\n",
       "    </tr>\n",
       "    <tr>\n",
       "      <th>1</th>\n",
       "      <td>2</td>\n",
       "      <td>Shigellosis and amebiasis (A03,A06)</td>\n",
       "    </tr>\n",
       "    <tr>\n",
       "      <th>2</th>\n",
       "      <td>3</td>\n",
       "      <td>Certain other intestinal infections (A04,A07-A09)</td>\n",
       "    </tr>\n",
       "    <tr>\n",
       "      <th>3</th>\n",
       "      <td>4</td>\n",
       "      <td>1 Tuberculosis (A16-A19)</td>\n",
       "    </tr>\n",
       "    <tr>\n",
       "      <th>4</th>\n",
       "      <td>5</td>\n",
       "      <td>Respiratory tuberculosis (A16)</td>\n",
       "    </tr>\n",
       "  </tbody>\n",
       "</table>\n",
       "</div>"
      ],
      "text/plain": [
       "   113_cause_recode                                        cause_group\n",
       "0                 1                    Salmonella infections (A01-A02)\n",
       "1                 2                Shigellosis and amebiasis (A03,A06)\n",
       "2                 3  Certain other intestinal infections (A04,A07-A09)\n",
       "3                 4                           1 Tuberculosis (A16-A19)\n",
       "4                 5                     Respiratory tuberculosis (A16)"
      ]
     },
     "execution_count": 4,
     "metadata": {},
     "output_type": "execute_result"
    }
   ],
   "source": [
    "# Bring in the 113 code data\n",
    "cause_code_df = pd.read_csv(r\"d:\\Desktop\\Team_4\\113_recode.csv\", header = None, \n",
    "                      names=['113_cause_recode', 'cause_group'] )\n",
    "cause_code_df.head()"
   ]
  },
  {
   "cell_type": "code",
   "execution_count": 5,
   "metadata": {},
   "outputs": [
    {
     "data": {
      "text/plain": [
       "113_cause_recode     int64\n",
       "cause_group         object\n",
       "dtype: object"
      ]
     },
     "execution_count": 5,
     "metadata": {},
     "output_type": "execute_result"
    }
   ],
   "source": [
    "cause_code_df.dtypes"
   ]
  },
  {
   "cell_type": "code",
   "execution_count": 6,
   "metadata": {},
   "outputs": [],
   "source": [
    "cause_code_df[\"113_cause_recode\"] = pd.to_numeric(cause_code_df[\"113_cause_recode\"])"
   ]
  },
  {
   "cell_type": "code",
   "execution_count": 7,
   "metadata": {},
   "outputs": [
    {
     "data": {
      "text/html": [
       "<div>\n",
       "<style scoped>\n",
       "    .dataframe tbody tr th:only-of-type {\n",
       "        vertical-align: middle;\n",
       "    }\n",
       "\n",
       "    .dataframe tbody tr th {\n",
       "        vertical-align: top;\n",
       "    }\n",
       "\n",
       "    .dataframe thead th {\n",
       "        text-align: right;\n",
       "    }\n",
       "</style>\n",
       "<table border=\"1\" class=\"dataframe\">\n",
       "  <thead>\n",
       "    <tr style=\"text-align: right;\">\n",
       "      <th></th>\n",
       "      <th>Unnamed: 0</th>\n",
       "      <th>113_cause_recode</th>\n",
       "      <th>130_infant_cause_recode</th>\n",
       "      <th>358_cause_recode</th>\n",
       "      <th>39_cause_recode</th>\n",
       "      <th>Unnamed: 0.1</th>\n",
       "      <th>Unnamed: 0.1.1</th>\n",
       "      <th>activity_code</th>\n",
       "      <th>age_recode_12</th>\n",
       "      <th>age_recode_27</th>\n",
       "      <th>...</th>\n",
       "      <th>manner_of_death</th>\n",
       "      <th>marital_status</th>\n",
       "      <th>method_of_disposition</th>\n",
       "      <th>month_of_death</th>\n",
       "      <th>place_of_death_and_decedents_status</th>\n",
       "      <th>race_recode_3</th>\n",
       "      <th>race_recode_5</th>\n",
       "      <th>resident_status</th>\n",
       "      <th>sex</th>\n",
       "      <th>cause_group</th>\n",
       "    </tr>\n",
       "  </thead>\n",
       "  <tbody>\n",
       "    <tr>\n",
       "      <th>0</th>\n",
       "      <td>0</td>\n",
       "      <td>67</td>\n",
       "      <td>NaN</td>\n",
       "      <td>NaN</td>\n",
       "      <td>NaN</td>\n",
       "      <td>12710949</td>\n",
       "      <td>12710949.0</td>\n",
       "      <td>NaN</td>\n",
       "      <td>NaN</td>\n",
       "      <td>NaN</td>\n",
       "      <td>...</td>\n",
       "      <td>7.0</td>\n",
       "      <td>W</td>\n",
       "      <td>U</td>\n",
       "      <td>10</td>\n",
       "      <td>6</td>\n",
       "      <td>NaN</td>\n",
       "      <td>1</td>\n",
       "      <td>1</td>\n",
       "      <td>M</td>\n",
       "      <td>Heart failure (I50)</td>\n",
       "    </tr>\n",
       "    <tr>\n",
       "      <th>1</th>\n",
       "      <td>1</td>\n",
       "      <td>95</td>\n",
       "      <td>NaN</td>\n",
       "      <td>NaN</td>\n",
       "      <td>NaN</td>\n",
       "      <td>4686059</td>\n",
       "      <td>4686059.0</td>\n",
       "      <td>NaN</td>\n",
       "      <td>NaN</td>\n",
       "      <td>NaN</td>\n",
       "      <td>...</td>\n",
       "      <td>7.0</td>\n",
       "      <td>D</td>\n",
       "      <td>C</td>\n",
       "      <td>9</td>\n",
       "      <td>1</td>\n",
       "      <td>NaN</td>\n",
       "      <td>1</td>\n",
       "      <td>1</td>\n",
       "      <td>M</td>\n",
       "      <td>Other chronic liver disease and cirrhosis (K73...</td>\n",
       "    </tr>\n",
       "    <tr>\n",
       "      <th>2</th>\n",
       "      <td>2</td>\n",
       "      <td>70</td>\n",
       "      <td>NaN</td>\n",
       "      <td>NaN</td>\n",
       "      <td>NaN</td>\n",
       "      <td>6762380</td>\n",
       "      <td>6762380.0</td>\n",
       "      <td>NaN</td>\n",
       "      <td>NaN</td>\n",
       "      <td>NaN</td>\n",
       "      <td>...</td>\n",
       "      <td>7.0</td>\n",
       "      <td>D</td>\n",
       "      <td>C</td>\n",
       "      <td>11</td>\n",
       "      <td>4</td>\n",
       "      <td>NaN</td>\n",
       "      <td>1</td>\n",
       "      <td>1</td>\n",
       "      <td>F</td>\n",
       "      <td>Cerebrovascular diseases (I60-I69)</td>\n",
       "    </tr>\n",
       "    <tr>\n",
       "      <th>3</th>\n",
       "      <td>3</td>\n",
       "      <td>68</td>\n",
       "      <td>NaN</td>\n",
       "      <td>NaN</td>\n",
       "      <td>NaN</td>\n",
       "      <td>12325960</td>\n",
       "      <td>12325960.0</td>\n",
       "      <td>NaN</td>\n",
       "      <td>NaN</td>\n",
       "      <td>NaN</td>\n",
       "      <td>...</td>\n",
       "      <td>7.0</td>\n",
       "      <td>M</td>\n",
       "      <td>B</td>\n",
       "      <td>1</td>\n",
       "      <td>4</td>\n",
       "      <td>NaN</td>\n",
       "      <td>1</td>\n",
       "      <td>1</td>\n",
       "      <td>M</td>\n",
       "      <td>All other forms of heart disease (I26-I28,I34-...</td>\n",
       "    </tr>\n",
       "    <tr>\n",
       "      <th>4</th>\n",
       "      <td>4</td>\n",
       "      <td>24</td>\n",
       "      <td>NaN</td>\n",
       "      <td>NaN</td>\n",
       "      <td>NaN</td>\n",
       "      <td>491263</td>\n",
       "      <td>491263.0</td>\n",
       "      <td>NaN</td>\n",
       "      <td>NaN</td>\n",
       "      <td>NaN</td>\n",
       "      <td>...</td>\n",
       "      <td>7.0</td>\n",
       "      <td>M</td>\n",
       "      <td>B</td>\n",
       "      <td>4</td>\n",
       "      <td>4</td>\n",
       "      <td>NaN</td>\n",
       "      <td>1</td>\n",
       "      <td>1</td>\n",
       "      <td>M</td>\n",
       "      <td>Malignant neoplasms of liver and intrahepatic ...</td>\n",
       "    </tr>\n",
       "  </tbody>\n",
       "</table>\n",
       "<p>5 rows × 32 columns</p>\n",
       "</div>"
      ],
      "text/plain": [
       "   Unnamed: 0  113_cause_recode  130_infant_cause_recode  358_cause_recode  \\\n",
       "0           0                67                      NaN               NaN   \n",
       "1           1                95                      NaN               NaN   \n",
       "2           2                70                      NaN               NaN   \n",
       "3           3                68                      NaN               NaN   \n",
       "4           4                24                      NaN               NaN   \n",
       "\n",
       "   39_cause_recode  Unnamed: 0.1  Unnamed: 0.1.1  activity_code  \\\n",
       "0              NaN      12710949      12710949.0            NaN   \n",
       "1              NaN       4686059       4686059.0            NaN   \n",
       "2              NaN       6762380       6762380.0            NaN   \n",
       "3              NaN      12325960      12325960.0            NaN   \n",
       "4              NaN        491263        491263.0            NaN   \n",
       "\n",
       "   age_recode_12  age_recode_27  \\\n",
       "0            NaN            NaN   \n",
       "1            NaN            NaN   \n",
       "2            NaN            NaN   \n",
       "3            NaN            NaN   \n",
       "4            NaN            NaN   \n",
       "\n",
       "                         ...                          manner_of_death  \\\n",
       "0                        ...                                      7.0   \n",
       "1                        ...                                      7.0   \n",
       "2                        ...                                      7.0   \n",
       "3                        ...                                      7.0   \n",
       "4                        ...                                      7.0   \n",
       "\n",
       "  marital_status  method_of_disposition  month_of_death  \\\n",
       "0              W                      U              10   \n",
       "1              D                      C               9   \n",
       "2              D                      C              11   \n",
       "3              M                      B               1   \n",
       "4              M                      B               4   \n",
       "\n",
       "   place_of_death_and_decedents_status  race_recode_3  race_recode_5  \\\n",
       "0                                    6            NaN              1   \n",
       "1                                    1            NaN              1   \n",
       "2                                    4            NaN              1   \n",
       "3                                    4            NaN              1   \n",
       "4                                    4            NaN              1   \n",
       "\n",
       "   resident_status  sex                                        cause_group  \n",
       "0                1    M                                Heart failure (I50)  \n",
       "1                1    M  Other chronic liver disease and cirrhosis (K73...  \n",
       "2                1    F                 Cerebrovascular diseases (I60-I69)  \n",
       "3                1    M  All other forms of heart disease (I26-I28,I34-...  \n",
       "4                1    M  Malignant neoplasms of liver and intrahepatic ...  \n",
       "\n",
       "[5 rows x 32 columns]"
      ]
     },
     "execution_count": 7,
     "metadata": {},
     "output_type": "execute_result"
    }
   ],
   "source": [
    "# Merge the first two files\n",
    "cause_code_merge_df = data_df.merge(cause_code_df, on='113_cause_recode', how='left')\n",
    "cause_code_merge_df.head()"
   ]
  },
  {
   "cell_type": "code",
   "execution_count": 8,
   "metadata": {},
   "outputs": [],
   "source": [
    "# Create dictionaries/dataframes for the columns with codes\n",
    "\n",
    "# Place of Death\n",
    "place_of_death_dct = {'place_of_death_and_decedents_status': [1,2,3,4,5,6,7,9],\n",
    "                      'place': ['Hospital, clinic or Medical Center – Inpatient', \n",
    "                                'Hospital, Clinic or Medical Center - Outpatient or admitted to Emergency Room', \n",
    "                                'Hospital, Clinic or Medical Center - Dead on Arrival',\"Decedent’s home\", \n",
    "                                'Hospice facility', 'Nursing home/long term care', 'Other', 'Place of death unknown']}\n",
    "place_df = pd.DataFrame(place_of_death_dct)\n",
    "\n",
    "# Marital Status\n",
    "marital_status_dct = {'marital_status':['S','M','W','D','U'], \n",
    "                      'marital':['Never married, single','Married','Widowed','Divorced',\n",
    "                                        'Marital Status unknown']}\n",
    "marital_df = pd.DataFrame(marital_status_dct)\n",
    "\n",
    "# Month of Death\n",
    "month_dct = {'month_of_death':[1,2,3,4,5,6,7,8,9,10,11,12],\n",
    "             'month':['January','February','March','April','May','June','July','August','September',\n",
    "                      'October','November','December']}\n",
    "month_df = pd.DataFrame(month_dct)\n",
    "\n",
    "# Method of Disposition\n",
    "disposition_dct = {'method_of_disposition':['B','C','D','U'],\n",
    "                   'disposition':['Burial','Cremation','Other','Unknown']}\n",
    "disp_df = pd.DataFrame(disposition_dct)\n",
    "\n",
    "# Education\n",
    "edu_dct = {'education_2003_revision': [1,2,3,4,5,6,7,8,9],\n",
    "           'education':['8th grade or less','9 - 12th grade, no diploma','high school graduate or GED completed',\n",
    "                        'some college credit, but no degree','Associate degree','Bachelor’s degree',\n",
    "                        \"Master’s degree\",'Doctorate or professional degree','Unknown']}\n",
    "edu_df = pd.DataFrame(edu_dct)\n",
    "\n",
    "# Day of the Week\n",
    "day_of_week_dct = {'day_of_week_of_death': [1,2,3,4,5,6,7,9], \n",
    "                   'day_of_week':['Sunday','Monday','Tuesday','Wednesday','Thursday','Friday','Saturday','Unknown']}\n",
    "day_df = pd.DataFrame(day_of_week_dct)\n",
    "\n",
    "# Age Range\n",
    "age_code_dct = {'age_recode_12': [1,2,3,4,5,6,7,8,9,10,11,12],\n",
    "                 'age_range': [\"Under 1 year (includes not stated infant ages)\",\"1 - 4 years\", \"5 - 14 years\",\n",
    "                               \"15 - 24 years\", \"25 - 34 years\",\"35 - 44 years\",\"45 - 54 years\",\"55 - 64 years\",\n",
    "                               \"65 - 74 years\",\"75 - 84 years\",\"85 years and over\",\"Age not stated\"]}\n",
    "age_code_df = pd.DataFrame(age_code_dct)\n",
    "\n",
    "# Manner of Death\n",
    "cause_dct = {\"manner_of_death\": [1,2,3,4,5,6,7,None],\n",
    "              \"cause_of_death\": [\"Accident\", \"Suicide\",\"Homicide\",\"Pending investigation\",\"Could not determine\",\n",
    "                                 \"Self-Inflicted\", \"Natural\", \"Not specified\"]}\n",
    "cause_df = pd.DataFrame(cause_dct)"
   ]
  },
  {
   "cell_type": "code",
   "execution_count": 9,
   "metadata": {},
   "outputs": [],
   "source": [
    "# Merge the dataframes with the main dataframe\n",
    "merge1_df = cause_code_merge_df.merge(place_df, on='place_of_death_and_decedents_status', how='left')\n",
    "merge2_df = merge1_df.merge(marital_df, on='marital_status', how='left')\n",
    "merge3_df = merge2_df.merge(month_df, on='month_of_death', how='left')\n",
    "merge4_df = merge3_df.merge(disp_df, on='method_of_disposition', how='left')\n",
    "merge5_df = merge4_df.merge(edu_df, on='education_2003_revision', how='left')\n",
    "merge6_df = merge5_df.merge(day_df, on='day_of_week_of_death', how='left')\n",
    "merge7_df = merge6_df.merge(age_code_df, on='age_recode_12', how= 'left')\n",
    "merge8_df = merge7_df.merge(cause_df, on='manner_of_death', how='left')"
   ]
  },
  {
   "cell_type": "markdown",
   "metadata": {},
   "source": [
    "## Alzheimer's filter"
   ]
  },
  {
   "cell_type": "code",
   "execution_count": 10,
   "metadata": {},
   "outputs": [
    {
     "data": {
      "text/plain": [
       "1103324"
      ]
     },
     "execution_count": 10,
     "metadata": {},
     "output_type": "execute_result"
    }
   ],
   "source": [
    "total_merge_df_rows = merge1_df[\"manner_of_death\"].count()\n",
    "total_merge_df_rows"
   ]
  },
  {
   "cell_type": "code",
   "execution_count": 11,
   "metadata": {},
   "outputs": [
    {
     "data": {
      "text/html": [
       "<div>\n",
       "<style scoped>\n",
       "    .dataframe tbody tr th:only-of-type {\n",
       "        vertical-align: middle;\n",
       "    }\n",
       "\n",
       "    .dataframe tbody tr th {\n",
       "        vertical-align: top;\n",
       "    }\n",
       "\n",
       "    .dataframe thead th {\n",
       "        text-align: right;\n",
       "    }\n",
       "</style>\n",
       "<table border=\"1\" class=\"dataframe\">\n",
       "  <thead>\n",
       "    <tr style=\"text-align: right;\">\n",
       "      <th></th>\n",
       "      <th>Unnamed: 0</th>\n",
       "      <th>113_cause_recode</th>\n",
       "      <th>130_infant_cause_recode</th>\n",
       "      <th>358_cause_recode</th>\n",
       "      <th>39_cause_recode</th>\n",
       "      <th>Unnamed: 0.1</th>\n",
       "      <th>Unnamed: 0.1.1</th>\n",
       "      <th>activity_code</th>\n",
       "      <th>age_recode_12</th>\n",
       "      <th>age_recode_27</th>\n",
       "      <th>...</th>\n",
       "      <th>marital_status</th>\n",
       "      <th>method_of_disposition</th>\n",
       "      <th>month_of_death</th>\n",
       "      <th>place_of_death_and_decedents_status</th>\n",
       "      <th>race_recode_3</th>\n",
       "      <th>race_recode_5</th>\n",
       "      <th>resident_status</th>\n",
       "      <th>sex</th>\n",
       "      <th>cause_group</th>\n",
       "      <th>place</th>\n",
       "    </tr>\n",
       "  </thead>\n",
       "  <tbody>\n",
       "    <tr>\n",
       "      <th>0</th>\n",
       "      <td>0</td>\n",
       "      <td>67</td>\n",
       "      <td>NaN</td>\n",
       "      <td>NaN</td>\n",
       "      <td>NaN</td>\n",
       "      <td>12710949</td>\n",
       "      <td>12710949.0</td>\n",
       "      <td>NaN</td>\n",
       "      <td>NaN</td>\n",
       "      <td>NaN</td>\n",
       "      <td>...</td>\n",
       "      <td>W</td>\n",
       "      <td>U</td>\n",
       "      <td>10</td>\n",
       "      <td>6</td>\n",
       "      <td>NaN</td>\n",
       "      <td>1</td>\n",
       "      <td>1</td>\n",
       "      <td>M</td>\n",
       "      <td>Heart failure (I50)</td>\n",
       "      <td>Nursing home/long term care</td>\n",
       "    </tr>\n",
       "  </tbody>\n",
       "</table>\n",
       "<p>1 rows × 33 columns</p>\n",
       "</div>"
      ],
      "text/plain": [
       "   Unnamed: 0  113_cause_recode  130_infant_cause_recode  358_cause_recode  \\\n",
       "0           0                67                      NaN               NaN   \n",
       "\n",
       "   39_cause_recode  Unnamed: 0.1  Unnamed: 0.1.1  activity_code  \\\n",
       "0              NaN      12710949      12710949.0            NaN   \n",
       "\n",
       "   age_recode_12  age_recode_27             ...               marital_status  \\\n",
       "0            NaN            NaN             ...                            W   \n",
       "\n",
       "  method_of_disposition  month_of_death  place_of_death_and_decedents_status  \\\n",
       "0                     U              10                                    6   \n",
       "\n",
       "   race_recode_3  race_recode_5  resident_status  sex          cause_group  \\\n",
       "0            NaN              1                1    M  Heart failure (I50)   \n",
       "\n",
       "                         place  \n",
       "0  Nursing home/long term care  \n",
       "\n",
       "[1 rows x 33 columns]"
      ]
     },
     "execution_count": 11,
     "metadata": {},
     "output_type": "execute_result"
    }
   ],
   "source": [
    "merge1_df.head(1)"
   ]
  },
  {
   "cell_type": "code",
   "execution_count": 12,
   "metadata": {},
   "outputs": [
    {
     "data": {
      "text/html": [
       "<div>\n",
       "<style scoped>\n",
       "    .dataframe tbody tr th:only-of-type {\n",
       "        vertical-align: middle;\n",
       "    }\n",
       "\n",
       "    .dataframe tbody tr th {\n",
       "        vertical-align: top;\n",
       "    }\n",
       "\n",
       "    .dataframe thead th {\n",
       "        text-align: right;\n",
       "    }\n",
       "</style>\n",
       "<table border=\"1\" class=\"dataframe\">\n",
       "  <thead>\n",
       "    <tr style=\"text-align: right;\">\n",
       "      <th></th>\n",
       "      <th>Unnamed: 0</th>\n",
       "      <th>113_cause_recode</th>\n",
       "      <th>130_infant_cause_recode</th>\n",
       "      <th>358_cause_recode</th>\n",
       "      <th>39_cause_recode</th>\n",
       "      <th>Unnamed: 0.1</th>\n",
       "      <th>Unnamed: 0.1.1</th>\n",
       "      <th>activity_code</th>\n",
       "      <th>age_recode_12</th>\n",
       "      <th>age_recode_27</th>\n",
       "      <th>...</th>\n",
       "      <th>marital_status</th>\n",
       "      <th>method_of_disposition</th>\n",
       "      <th>month_of_death</th>\n",
       "      <th>place_of_death_and_decedents_status</th>\n",
       "      <th>race_recode_3</th>\n",
       "      <th>race_recode_5</th>\n",
       "      <th>resident_status</th>\n",
       "      <th>sex</th>\n",
       "      <th>cause_group</th>\n",
       "      <th>place</th>\n",
       "    </tr>\n",
       "  </thead>\n",
       "  <tbody>\n",
       "    <tr>\n",
       "      <th>126</th>\n",
       "      <td>126</td>\n",
       "      <td>52</td>\n",
       "      <td>NaN</td>\n",
       "      <td>NaN</td>\n",
       "      <td>NaN</td>\n",
       "      <td>2652309</td>\n",
       "      <td>2652309.0</td>\n",
       "      <td>NaN</td>\n",
       "      <td>NaN</td>\n",
       "      <td>NaN</td>\n",
       "      <td>...</td>\n",
       "      <td>W</td>\n",
       "      <td>B</td>\n",
       "      <td>3</td>\n",
       "      <td>6</td>\n",
       "      <td>NaN</td>\n",
       "      <td>1</td>\n",
       "      <td>1</td>\n",
       "      <td>F</td>\n",
       "      <td>Alzheimer's disease (G30)</td>\n",
       "      <td>Nursing home/long term care</td>\n",
       "    </tr>\n",
       "  </tbody>\n",
       "</table>\n",
       "<p>1 rows × 33 columns</p>\n",
       "</div>"
      ],
      "text/plain": [
       "     Unnamed: 0  113_cause_recode  130_infant_cause_recode  358_cause_recode  \\\n",
       "126         126                52                      NaN               NaN   \n",
       "\n",
       "     39_cause_recode  Unnamed: 0.1  Unnamed: 0.1.1  activity_code  \\\n",
       "126              NaN       2652309       2652309.0            NaN   \n",
       "\n",
       "     age_recode_12  age_recode_27             ...               \\\n",
       "126            NaN            NaN             ...                \n",
       "\n",
       "     marital_status method_of_disposition  month_of_death  \\\n",
       "126               W                     B               3   \n",
       "\n",
       "     place_of_death_and_decedents_status  race_recode_3  race_recode_5  \\\n",
       "126                                    6            NaN              1   \n",
       "\n",
       "     resident_status  sex                cause_group  \\\n",
       "126                1    F  Alzheimer's disease (G30)   \n",
       "\n",
       "                           place  \n",
       "126  Nursing home/long term care  \n",
       "\n",
       "[1 rows x 33 columns]"
      ]
     },
     "execution_count": 12,
     "metadata": {},
     "output_type": "execute_result"
    }
   ],
   "source": [
    "#filter for Alzheimer's, 113_cause recode: 52\n",
    "filter_death_alz = merge1_df[merge1_df[\"113_cause_recode\"]==52]\n",
    "filter_death_alz.head(1)"
   ]
  },
  {
   "cell_type": "code",
   "execution_count": 13,
   "metadata": {},
   "outputs": [],
   "source": [
    "# group Alzheimer's data by year\n",
    "gb_year_alz = filter_death_alz.groupby(\"current_data_year\")"
   ]
  },
  {
   "cell_type": "code",
   "execution_count": 14,
   "metadata": {},
   "outputs": [
    {
     "data": {
      "text/plain": [
       "current_data_year\n",
       "2005    3555\n",
       "2006    3698\n",
       "2007    3614\n",
       "2008    4074\n",
       "2009    4052\n",
       "2010    4146\n",
       "2011    4197\n",
       "2012    4145\n",
       "2013    4271\n",
       "2014    4626\n",
       "2015    5575\n",
       "Name: 113_cause_recode, dtype: int64"
      ]
     },
     "execution_count": 14,
     "metadata": {},
     "output_type": "execute_result"
    }
   ],
   "source": [
    "# count the number of Alzheimer's deaths per year\n",
    "alz_total_year = gb_year_alz[\"113_cause_recode\"].count()\n",
    "alz_total_year"
   ]
  },
  {
   "cell_type": "code",
   "execution_count": 15,
   "metadata": {},
   "outputs": [
    {
     "data": {
      "text/html": [
       "<div>\n",
       "<style scoped>\n",
       "    .dataframe tbody tr th:only-of-type {\n",
       "        vertical-align: middle;\n",
       "    }\n",
       "\n",
       "    .dataframe tbody tr th {\n",
       "        vertical-align: top;\n",
       "    }\n",
       "\n",
       "    .dataframe thead th {\n",
       "        text-align: right;\n",
       "    }\n",
       "</style>\n",
       "<table border=\"1\" class=\"dataframe\">\n",
       "  <thead>\n",
       "    <tr style=\"text-align: right;\">\n",
       "      <th></th>\n",
       "      <th>Unnamed: 0</th>\n",
       "      <th>113_cause_recode</th>\n",
       "      <th>130_infant_cause_recode</th>\n",
       "      <th>358_cause_recode</th>\n",
       "      <th>39_cause_recode</th>\n",
       "      <th>Unnamed: 0.1</th>\n",
       "      <th>Unnamed: 0.1.1</th>\n",
       "      <th>activity_code</th>\n",
       "      <th>age_recode_12</th>\n",
       "      <th>age_recode_27</th>\n",
       "      <th>...</th>\n",
       "      <th>marital_status</th>\n",
       "      <th>method_of_disposition</th>\n",
       "      <th>month_of_death</th>\n",
       "      <th>place_of_death_and_decedents_status</th>\n",
       "      <th>race_recode_3</th>\n",
       "      <th>race_recode_5</th>\n",
       "      <th>resident_status</th>\n",
       "      <th>sex</th>\n",
       "      <th>cause_group</th>\n",
       "      <th>place</th>\n",
       "    </tr>\n",
       "  </thead>\n",
       "  <tbody>\n",
       "    <tr>\n",
       "      <th>300</th>\n",
       "      <td>300</td>\n",
       "      <td>52</td>\n",
       "      <td>NaN</td>\n",
       "      <td>NaN</td>\n",
       "      <td>NaN</td>\n",
       "      <td>11523678</td>\n",
       "      <td>11523678.0</td>\n",
       "      <td>NaN</td>\n",
       "      <td>NaN</td>\n",
       "      <td>NaN</td>\n",
       "      <td>...</td>\n",
       "      <td>M</td>\n",
       "      <td>C</td>\n",
       "      <td>6</td>\n",
       "      <td>4</td>\n",
       "      <td>NaN</td>\n",
       "      <td>1</td>\n",
       "      <td>1</td>\n",
       "      <td>M</td>\n",
       "      <td>Alzheimer's disease (G30)</td>\n",
       "      <td>Decedent’s home</td>\n",
       "    </tr>\n",
       "  </tbody>\n",
       "</table>\n",
       "<p>1 rows × 33 columns</p>\n",
       "</div>"
      ],
      "text/plain": [
       "     Unnamed: 0  113_cause_recode  130_infant_cause_recode  358_cause_recode  \\\n",
       "300         300                52                      NaN               NaN   \n",
       "\n",
       "     39_cause_recode  Unnamed: 0.1  Unnamed: 0.1.1  activity_code  \\\n",
       "300              NaN      11523678      11523678.0            NaN   \n",
       "\n",
       "     age_recode_12  age_recode_27       ...         marital_status  \\\n",
       "300            NaN            NaN       ...                      M   \n",
       "\n",
       "    method_of_disposition  month_of_death  \\\n",
       "300                     C               6   \n",
       "\n",
       "     place_of_death_and_decedents_status  race_recode_3  race_recode_5  \\\n",
       "300                                    4            NaN              1   \n",
       "\n",
       "     resident_status  sex                cause_group            place  \n",
       "300                1    M  Alzheimer's disease (G30)  Decedent’s home  \n",
       "\n",
       "[1 rows x 33 columns]"
      ]
     },
     "execution_count": 15,
     "metadata": {},
     "output_type": "execute_result"
    }
   ],
   "source": [
    "# filter Alzheimer's death df by men\n",
    "filter_death_alz_men = filter_death_alz[filter_death_alz[\"sex\"]==\"M\"]\n",
    "filter_death_alz_men.head(1)"
   ]
  },
  {
   "cell_type": "code",
   "execution_count": 16,
   "metadata": {},
   "outputs": [],
   "source": [
    "# group Alzheimer's men's data by year\n",
    "gb_year_alz_men = filter_death_alz_men.groupby(\"current_data_year\")"
   ]
  },
  {
   "cell_type": "code",
   "execution_count": 17,
   "metadata": {},
   "outputs": [
    {
     "data": {
      "text/plain": [
       "current_data_year\n",
       "2005    1045\n",
       "2006    1110\n",
       "2007    1063\n",
       "2008    1185\n",
       "2009    1202\n",
       "Name: 113_cause_recode, dtype: int64"
      ]
     },
     "execution_count": 17,
     "metadata": {},
     "output_type": "execute_result"
    }
   ],
   "source": [
    "# count the number of Alzheimer's men's deaths per year\n",
    "alz_total_year_men = gb_year_alz_men[\"113_cause_recode\"].count()\n",
    "alz_total_year_men.head()"
   ]
  },
  {
   "cell_type": "code",
   "execution_count": 18,
   "metadata": {},
   "outputs": [
    {
     "data": {
      "text/html": [
       "<div>\n",
       "<style scoped>\n",
       "    .dataframe tbody tr th:only-of-type {\n",
       "        vertical-align: middle;\n",
       "    }\n",
       "\n",
       "    .dataframe tbody tr th {\n",
       "        vertical-align: top;\n",
       "    }\n",
       "\n",
       "    .dataframe thead th {\n",
       "        text-align: right;\n",
       "    }\n",
       "</style>\n",
       "<table border=\"1\" class=\"dataframe\">\n",
       "  <thead>\n",
       "    <tr style=\"text-align: right;\">\n",
       "      <th></th>\n",
       "      <th>Unnamed: 0</th>\n",
       "      <th>113_cause_recode</th>\n",
       "      <th>130_infant_cause_recode</th>\n",
       "      <th>358_cause_recode</th>\n",
       "      <th>39_cause_recode</th>\n",
       "      <th>Unnamed: 0.1</th>\n",
       "      <th>Unnamed: 0.1.1</th>\n",
       "      <th>activity_code</th>\n",
       "      <th>age_recode_12</th>\n",
       "      <th>age_recode_27</th>\n",
       "      <th>...</th>\n",
       "      <th>marital_status</th>\n",
       "      <th>method_of_disposition</th>\n",
       "      <th>month_of_death</th>\n",
       "      <th>place_of_death_and_decedents_status</th>\n",
       "      <th>race_recode_3</th>\n",
       "      <th>race_recode_5</th>\n",
       "      <th>resident_status</th>\n",
       "      <th>sex</th>\n",
       "      <th>cause_group</th>\n",
       "      <th>place</th>\n",
       "    </tr>\n",
       "  </thead>\n",
       "  <tbody>\n",
       "    <tr>\n",
       "      <th>126</th>\n",
       "      <td>126</td>\n",
       "      <td>52</td>\n",
       "      <td>NaN</td>\n",
       "      <td>NaN</td>\n",
       "      <td>NaN</td>\n",
       "      <td>2652309</td>\n",
       "      <td>2652309.0</td>\n",
       "      <td>NaN</td>\n",
       "      <td>NaN</td>\n",
       "      <td>NaN</td>\n",
       "      <td>...</td>\n",
       "      <td>W</td>\n",
       "      <td>B</td>\n",
       "      <td>3</td>\n",
       "      <td>6</td>\n",
       "      <td>NaN</td>\n",
       "      <td>1</td>\n",
       "      <td>1</td>\n",
       "      <td>F</td>\n",
       "      <td>Alzheimer's disease (G30)</td>\n",
       "      <td>Nursing home/long term care</td>\n",
       "    </tr>\n",
       "  </tbody>\n",
       "</table>\n",
       "<p>1 rows × 33 columns</p>\n",
       "</div>"
      ],
      "text/plain": [
       "     Unnamed: 0  113_cause_recode  130_infant_cause_recode  358_cause_recode  \\\n",
       "126         126                52                      NaN               NaN   \n",
       "\n",
       "     39_cause_recode  Unnamed: 0.1  Unnamed: 0.1.1  activity_code  \\\n",
       "126              NaN       2652309       2652309.0            NaN   \n",
       "\n",
       "     age_recode_12  age_recode_27             ...               \\\n",
       "126            NaN            NaN             ...                \n",
       "\n",
       "     marital_status method_of_disposition  month_of_death  \\\n",
       "126               W                     B               3   \n",
       "\n",
       "     place_of_death_and_decedents_status  race_recode_3  race_recode_5  \\\n",
       "126                                    6            NaN              1   \n",
       "\n",
       "     resident_status  sex                cause_group  \\\n",
       "126                1    F  Alzheimer's disease (G30)   \n",
       "\n",
       "                           place  \n",
       "126  Nursing home/long term care  \n",
       "\n",
       "[1 rows x 33 columns]"
      ]
     },
     "execution_count": 18,
     "metadata": {},
     "output_type": "execute_result"
    }
   ],
   "source": [
    "# filter Alzheimer's death df by women\n",
    "filter_death_alz_women = filter_death_alz[filter_death_alz[\"sex\"]==\"F\"]\n",
    "filter_death_alz_women.head(1)"
   ]
  },
  {
   "cell_type": "code",
   "execution_count": 19,
   "metadata": {},
   "outputs": [],
   "source": [
    "# group Alzheimer's women's data by year\n",
    "gb_year_alz_women = filter_death_alz_women.groupby(\"current_data_year\")"
   ]
  },
  {
   "cell_type": "code",
   "execution_count": 20,
   "metadata": {},
   "outputs": [
    {
     "data": {
      "text/plain": [
       "current_data_year\n",
       "2005    2510\n",
       "2006    2588\n",
       "2007    2551\n",
       "2008    2889\n",
       "2009    2850\n",
       "Name: 113_cause_recode, dtype: int64"
      ]
     },
     "execution_count": 20,
     "metadata": {},
     "output_type": "execute_result"
    }
   ],
   "source": [
    "# count the number of Alzheimer's women's deaths per year\n",
    "alz_total_year_women = gb_year_alz_women[\"113_cause_recode\"].count()\n",
    "alz_total_year_women.head()"
   ]
  },
  {
   "cell_type": "markdown",
   "metadata": {},
   "source": [
    "## Diabetes filter"
   ]
  },
  {
   "cell_type": "code",
   "execution_count": 21,
   "metadata": {},
   "outputs": [
    {
     "data": {
      "text/html": [
       "<div>\n",
       "<style scoped>\n",
       "    .dataframe tbody tr th:only-of-type {\n",
       "        vertical-align: middle;\n",
       "    }\n",
       "\n",
       "    .dataframe tbody tr th {\n",
       "        vertical-align: top;\n",
       "    }\n",
       "\n",
       "    .dataframe thead th {\n",
       "        text-align: right;\n",
       "    }\n",
       "</style>\n",
       "<table border=\"1\" class=\"dataframe\">\n",
       "  <thead>\n",
       "    <tr style=\"text-align: right;\">\n",
       "      <th></th>\n",
       "      <th>Unnamed: 0</th>\n",
       "      <th>113_cause_recode</th>\n",
       "      <th>130_infant_cause_recode</th>\n",
       "      <th>358_cause_recode</th>\n",
       "      <th>39_cause_recode</th>\n",
       "      <th>Unnamed: 0.1</th>\n",
       "      <th>Unnamed: 0.1.1</th>\n",
       "      <th>activity_code</th>\n",
       "      <th>age_recode_12</th>\n",
       "      <th>age_recode_27</th>\n",
       "      <th>...</th>\n",
       "      <th>marital_status</th>\n",
       "      <th>method_of_disposition</th>\n",
       "      <th>month_of_death</th>\n",
       "      <th>place_of_death_and_decedents_status</th>\n",
       "      <th>race_recode_3</th>\n",
       "      <th>race_recode_5</th>\n",
       "      <th>resident_status</th>\n",
       "      <th>sex</th>\n",
       "      <th>cause_group</th>\n",
       "      <th>place</th>\n",
       "    </tr>\n",
       "  </thead>\n",
       "  <tbody>\n",
       "    <tr>\n",
       "      <th>15</th>\n",
       "      <td>15</td>\n",
       "      <td>46</td>\n",
       "      <td>NaN</td>\n",
       "      <td>NaN</td>\n",
       "      <td>NaN</td>\n",
       "      <td>7633404</td>\n",
       "      <td>7633404.0</td>\n",
       "      <td>NaN</td>\n",
       "      <td>NaN</td>\n",
       "      <td>NaN</td>\n",
       "      <td>...</td>\n",
       "      <td>W</td>\n",
       "      <td>B</td>\n",
       "      <td>3</td>\n",
       "      <td>1</td>\n",
       "      <td>NaN</td>\n",
       "      <td>1</td>\n",
       "      <td>1</td>\n",
       "      <td>F</td>\n",
       "      <td>3 Diabetes mellitus (E10-E14)</td>\n",
       "      <td>Hospital, clinic or Medical Center – Inpatient</td>\n",
       "    </tr>\n",
       "  </tbody>\n",
       "</table>\n",
       "<p>1 rows × 33 columns</p>\n",
       "</div>"
      ],
      "text/plain": [
       "    Unnamed: 0  113_cause_recode  130_infant_cause_recode  358_cause_recode  \\\n",
       "15          15                46                      NaN               NaN   \n",
       "\n",
       "    39_cause_recode  Unnamed: 0.1  Unnamed: 0.1.1  activity_code  \\\n",
       "15              NaN       7633404       7633404.0            NaN   \n",
       "\n",
       "    age_recode_12  age_recode_27  \\\n",
       "15            NaN            NaN   \n",
       "\n",
       "                         ...                        marital_status  \\\n",
       "15                       ...                                     W   \n",
       "\n",
       "   method_of_disposition  month_of_death  place_of_death_and_decedents_status  \\\n",
       "15                     B               3                                    1   \n",
       "\n",
       "    race_recode_3  race_recode_5  resident_status  sex  \\\n",
       "15            NaN              1                1    F   \n",
       "\n",
       "                      cause_group  \\\n",
       "15  3 Diabetes mellitus (E10-E14)   \n",
       "\n",
       "                                             place  \n",
       "15  Hospital, clinic or Medical Center – Inpatient  \n",
       "\n",
       "[1 rows x 33 columns]"
      ]
     },
     "execution_count": 21,
     "metadata": {},
     "output_type": "execute_result"
    }
   ],
   "source": [
    "#filter for diabetes, 113_cause recode: 46\n",
    "filter_death_dia = merge1_df[merge1_df[\"113_cause_recode\"]==46]\n",
    "filter_death_dia.head(1)"
   ]
  },
  {
   "cell_type": "code",
   "execution_count": 22,
   "metadata": {},
   "outputs": [],
   "source": [
    "# group diabetes deaths by year\n",
    "gb_year_dia = filter_death_dia.groupby(\"current_data_year\")"
   ]
  },
  {
   "cell_type": "code",
   "execution_count": 23,
   "metadata": {},
   "outputs": [
    {
     "data": {
      "text/plain": [
       "current_data_year\n",
       "2005    3751\n",
       "2006    3568\n",
       "2007    3596\n",
       "2008    3465\n",
       "2009    3456\n",
       "2010    3331\n",
       "2011    3679\n",
       "2012    3737\n",
       "2013    3868\n",
       "2014    3865\n",
       "2015    3983\n",
       "Name: 113_cause_recode, dtype: int64"
      ]
     },
     "execution_count": 23,
     "metadata": {},
     "output_type": "execute_result"
    }
   ],
   "source": [
    "# number of diabetes deaths per year\n",
    "dia_total_year = gb_year_dia[\"113_cause_recode\"].count()\n",
    "dia_total_year"
   ]
  },
  {
   "cell_type": "markdown",
   "metadata": {},
   "source": [
    "## Alzheimer's-Diabetes Line Graph"
   ]
  },
  {
   "cell_type": "code",
   "execution_count": 24,
   "metadata": {},
   "outputs": [],
   "source": [
    "# Dependencies\n",
    "import matplotlib.pyplot as plt"
   ]
  },
  {
   "cell_type": "code",
   "execution_count": 25,
   "metadata": {},
   "outputs": [
    {
     "data": {
      "text/plain": [
       "array([2005, 2006, 2007, 2008, 2009, 2010, 2011, 2012, 2013, 2014, 2015])"
      ]
     },
     "execution_count": 25,
     "metadata": {},
     "output_type": "execute_result"
    }
   ],
   "source": [
    "# Set x axis to years in data\n",
    "x_axis = np.arange(2005,2016,1)\n",
    "x_axis"
   ]
  },
  {
   "cell_type": "code",
   "execution_count": 26,
   "metadata": {},
   "outputs": [],
   "source": [
    "# assign series totals to y-axis variables\n",
    "points_alz = alz_total_year\n",
    "points_dia = dia_total_year"
   ]
  },
  {
   "cell_type": "code",
   "execution_count": 27,
   "metadata": {},
   "outputs": [
    {
     "data": {
      "image/png": "[encoded data removed]",
      "text/plain": [
       "<Figure size 1080x504 with 1 Axes>"
      ]
     },
     "metadata": {
      "needs_background": "light"
     },
     "output_type": "display_data"
    }
   ],
   "source": [
    "# Create a handle for each plot\n",
    "plt.figure(figsize=(15,7))\n",
    "alzheimer, = plt.plot(x_axis, points_alz, marker=\"+\",color=\"blue\", linewidth=1, label=\"Alzheimer's\")\n",
    "#diabetes, = plt.plot(x_axis, points_dia, marker=\"s\", color=\"Red\", linewidth=1, label=\"Diabetes\")\n",
    "diabetes, = plt.plot(x_axis, points_dia, marker=\"+\", color=\"Red\", linewidth=1, label=\"Diabetes\")\n",
    "# Set our legend to where the chart thinks is best\n",
    "plt.legend(handles=[alzheimer, diabetes], loc=\"best\")\n",
    "# Create labels for the X and Y axis\n",
    "plt.xlabel(\"Years\")\n",
    "plt.ylabel(\"Deaths\")\n",
    "plt.title(\"Death Cause Types: Alzheimer's & Diabetes Deaths\")\n",
    "plt.grid()"
   ]
  },
  {
   "cell_type": "code",
   "execution_count": 28,
   "metadata": {},
   "outputs": [],
   "source": [
    "# plot Alzheimer's total along with sub-filters based on sex\n",
    "points_alz_men = alz_total_year_men\n",
    "points_alz_women = alz_total_year_women"
   ]
  },
  {
   "cell_type": "code",
   "execution_count": 29,
   "metadata": {},
   "outputs": [
    {
     "data": {
      "image/png": "[encoded data removed]",
      "text/plain": [
       "<Figure size 1080x504 with 1 Axes>"
      ]
     },
     "metadata": {
      "needs_background": "light"
     },
     "output_type": "display_data"
    }
   ],
   "source": [
    "# Create a handle for each plot\n",
    "plt.figure(figsize=(15,7))\n",
    "alzheimer, = plt.plot(x_axis, points_alz, marker=\"+\",color=\"blue\", linewidth=1, label=\"Alzheimer's Total\")\n",
    "alzheimer_men, = plt.plot(x_axis, points_alz_men, marker=\"+\", color=\"red\", linewidth=1, label=\"Men\")\n",
    "alzheimer_women, = plt.plot(x_axis, points_alz_women, marker=\"+\", color=\"green\", linewidth=1, label=\"Women\")\n",
    "# Set our legend to where the chart thinks is best\n",
    "plt.legend(handles=[alzheimer, alzheimer_men, alzheimer_women], loc=\"best\")\n",
    "# Create labels for the X and Y axis\n",
    "plt.xlabel(\"Years\")\n",
    "plt.ylabel(\"Deaths\")\n",
    "plt.title(\"Death Cause Type: Alzheimer's & Breakdown by Sex\")\n",
    "plt.grid()"
   ]
  },
  {
   "cell_type": "markdown",
   "metadata": {},
   "source": [
    "## Ischemic Heart Disease Filter"
   ]
  },
  {
   "cell_type": "code",
   "execution_count": 30,
   "metadata": {},
   "outputs": [
    {
     "data": {
      "text/html": [
       "<div>\n",
       "<style scoped>\n",
       "    .dataframe tbody tr th:only-of-type {\n",
       "        vertical-align: middle;\n",
       "    }\n",
       "\n",
       "    .dataframe tbody tr th {\n",
       "        vertical-align: top;\n",
       "    }\n",
       "\n",
       "    .dataframe thead th {\n",
       "        text-align: right;\n",
       "    }\n",
       "</style>\n",
       "<table border=\"1\" class=\"dataframe\">\n",
       "  <thead>\n",
       "    <tr style=\"text-align: right;\">\n",
       "      <th></th>\n",
       "      <th>Unnamed: 0</th>\n",
       "      <th>113_cause_recode</th>\n",
       "      <th>130_infant_cause_recode</th>\n",
       "      <th>358_cause_recode</th>\n",
       "      <th>39_cause_recode</th>\n",
       "      <th>Unnamed: 0.1</th>\n",
       "      <th>Unnamed: 0.1.1</th>\n",
       "      <th>activity_code</th>\n",
       "      <th>age_recode_12</th>\n",
       "      <th>age_recode_27</th>\n",
       "      <th>...</th>\n",
       "      <th>marital_status</th>\n",
       "      <th>method_of_disposition</th>\n",
       "      <th>month_of_death</th>\n",
       "      <th>place_of_death_and_decedents_status</th>\n",
       "      <th>race_recode_3</th>\n",
       "      <th>race_recode_5</th>\n",
       "      <th>resident_status</th>\n",
       "      <th>sex</th>\n",
       "      <th>cause_group</th>\n",
       "      <th>place</th>\n",
       "    </tr>\n",
       "  </thead>\n",
       "  <tbody>\n",
       "    <tr>\n",
       "      <th>24</th>\n",
       "      <td>24</td>\n",
       "      <td>63</td>\n",
       "      <td>NaN</td>\n",
       "      <td>NaN</td>\n",
       "      <td>NaN</td>\n",
       "      <td>8790268</td>\n",
       "      <td>8790268.0</td>\n",
       "      <td>NaN</td>\n",
       "      <td>NaN</td>\n",
       "      <td>NaN</td>\n",
       "      <td>...</td>\n",
       "      <td>D</td>\n",
       "      <td>C</td>\n",
       "      <td>10</td>\n",
       "      <td>4</td>\n",
       "      <td>NaN</td>\n",
       "      <td>1</td>\n",
       "      <td>1</td>\n",
       "      <td>M</td>\n",
       "      <td>All other forms of chronic ischemic heart dise...</td>\n",
       "      <td>Decedent’s home</td>\n",
       "    </tr>\n",
       "  </tbody>\n",
       "</table>\n",
       "<p>1 rows × 33 columns</p>\n",
       "</div>"
      ],
      "text/plain": [
       "    Unnamed: 0  113_cause_recode  130_infant_cause_recode  358_cause_recode  \\\n",
       "24          24                63                      NaN               NaN   \n",
       "\n",
       "    39_cause_recode  Unnamed: 0.1  Unnamed: 0.1.1  activity_code  \\\n",
       "24              NaN       8790268       8790268.0            NaN   \n",
       "\n",
       "    age_recode_12  age_recode_27       ...         marital_status  \\\n",
       "24            NaN            NaN       ...                      D   \n",
       "\n",
       "   method_of_disposition  month_of_death  place_of_death_and_decedents_status  \\\n",
       "24                     C              10                                    4   \n",
       "\n",
       "    race_recode_3  race_recode_5  resident_status  sex  \\\n",
       "24            NaN              1                1    M   \n",
       "\n",
       "                                          cause_group            place  \n",
       "24  All other forms of chronic ischemic heart dise...  Decedent’s home  \n",
       "\n",
       "[1 rows x 33 columns]"
      ]
     },
     "execution_count": 30,
     "metadata": {},
     "output_type": "execute_result"
    }
   ],
   "source": [
    "#filter for Heart, 113_cause recode: 63 - chronic ischemic heart disease\n",
    "filter_death_heart_isc = merge1_df[merge1_df[\"113_cause_recode\"]==63]\n",
    "filter_death_heart_isc.head(1)"
   ]
  },
  {
   "cell_type": "code",
   "execution_count": 31,
   "metadata": {},
   "outputs": [],
   "source": [
    "# group heart ischemic (blood flow) deaths by year\n",
    "gb_heart_isc = filter_death_heart_isc.groupby(\"current_data_year\")"
   ]
  },
  {
   "cell_type": "code",
   "execution_count": 32,
   "metadata": {},
   "outputs": [
    {
     "data": {
      "text/plain": [
       "current_data_year\n",
       "2005    11429\n",
       "2006    10895\n",
       "2007    10415\n",
       "2008    10565\n",
       "2009     9902\n",
       "2010     9708\n",
       "2011     9685\n",
       "2012     9551\n",
       "2013     9475\n",
       "2014     9404\n",
       "2015     9354\n",
       "Name: 113_cause_recode, dtype: int64"
      ]
     },
     "execution_count": 32,
     "metadata": {},
     "output_type": "execute_result"
    }
   ],
   "source": [
    "# number of diabetes deaths per year\n",
    "isc_total_year = gb_heart_isc[\"113_cause_recode\"].count()\n",
    "isc_total_year"
   ]
  },
  {
   "cell_type": "markdown",
   "metadata": {},
   "source": [
    "## Stroke filter"
   ]
  },
  {
   "cell_type": "code",
   "execution_count": 33,
   "metadata": {},
   "outputs": [
    {
     "data": {
      "text/html": [
       "<div>\n",
       "<style scoped>\n",
       "    .dataframe tbody tr th:only-of-type {\n",
       "        vertical-align: middle;\n",
       "    }\n",
       "\n",
       "    .dataframe tbody tr th {\n",
       "        vertical-align: top;\n",
       "    }\n",
       "\n",
       "    .dataframe thead th {\n",
       "        text-align: right;\n",
       "    }\n",
       "</style>\n",
       "<table border=\"1\" class=\"dataframe\">\n",
       "  <thead>\n",
       "    <tr style=\"text-align: right;\">\n",
       "      <th></th>\n",
       "      <th>Unnamed: 0</th>\n",
       "      <th>113_cause_recode</th>\n",
       "      <th>130_infant_cause_recode</th>\n",
       "      <th>358_cause_recode</th>\n",
       "      <th>39_cause_recode</th>\n",
       "      <th>Unnamed: 0.1</th>\n",
       "      <th>Unnamed: 0.1.1</th>\n",
       "      <th>activity_code</th>\n",
       "      <th>age_recode_12</th>\n",
       "      <th>age_recode_27</th>\n",
       "      <th>...</th>\n",
       "      <th>marital_status</th>\n",
       "      <th>method_of_disposition</th>\n",
       "      <th>month_of_death</th>\n",
       "      <th>place_of_death_and_decedents_status</th>\n",
       "      <th>race_recode_3</th>\n",
       "      <th>race_recode_5</th>\n",
       "      <th>resident_status</th>\n",
       "      <th>sex</th>\n",
       "      <th>cause_group</th>\n",
       "      <th>place</th>\n",
       "    </tr>\n",
       "  </thead>\n",
       "  <tbody>\n",
       "    <tr>\n",
       "      <th>2</th>\n",
       "      <td>2</td>\n",
       "      <td>70</td>\n",
       "      <td>NaN</td>\n",
       "      <td>NaN</td>\n",
       "      <td>NaN</td>\n",
       "      <td>6762380</td>\n",
       "      <td>6762380.0</td>\n",
       "      <td>NaN</td>\n",
       "      <td>NaN</td>\n",
       "      <td>NaN</td>\n",
       "      <td>...</td>\n",
       "      <td>D</td>\n",
       "      <td>C</td>\n",
       "      <td>11</td>\n",
       "      <td>4</td>\n",
       "      <td>NaN</td>\n",
       "      <td>1</td>\n",
       "      <td>1</td>\n",
       "      <td>F</td>\n",
       "      <td>Cerebrovascular diseases (I60-I69)</td>\n",
       "      <td>Decedent’s home</td>\n",
       "    </tr>\n",
       "  </tbody>\n",
       "</table>\n",
       "<p>1 rows × 33 columns</p>\n",
       "</div>"
      ],
      "text/plain": [
       "   Unnamed: 0  113_cause_recode  130_infant_cause_recode  358_cause_recode  \\\n",
       "2           2                70                      NaN               NaN   \n",
       "\n",
       "   39_cause_recode  Unnamed: 0.1  Unnamed: 0.1.1  activity_code  \\\n",
       "2              NaN       6762380       6762380.0            NaN   \n",
       "\n",
       "   age_recode_12  age_recode_27       ...         marital_status  \\\n",
       "2            NaN            NaN       ...                      D   \n",
       "\n",
       "  method_of_disposition  month_of_death  place_of_death_and_decedents_status  \\\n",
       "2                     C              11                                    4   \n",
       "\n",
       "   race_recode_3  race_recode_5  resident_status  sex  \\\n",
       "2            NaN              1                1    F   \n",
       "\n",
       "                          cause_group            place  \n",
       "2  Cerebrovascular diseases (I60-I69)  Decedent’s home  \n",
       "\n",
       "[1 rows x 33 columns]"
      ]
     },
     "execution_count": 33,
     "metadata": {},
     "output_type": "execute_result"
    }
   ],
   "source": [
    "#filter for Stroke, 113_cause recode: 70\n",
    "filter_death_stroke = merge1_df[merge1_df[\"113_cause_recode\"]==70]\n",
    "filter_death_stroke.head(1)"
   ]
  },
  {
   "cell_type": "code",
   "execution_count": 34,
   "metadata": {},
   "outputs": [],
   "source": [
    "# group stroke deaths by year\n",
    "gb_stroke = filter_death_stroke.groupby(\"current_data_year\")"
   ]
  },
  {
   "cell_type": "code",
   "execution_count": 35,
   "metadata": {},
   "outputs": [
    {
     "data": {
      "text/plain": [
       "current_data_year\n",
       "2005    7019\n",
       "2006    6885\n",
       "2007    6639\n",
       "2008    6718\n",
       "2009    6533\n",
       "2010    6542\n",
       "2011    6374\n",
       "2012    6399\n",
       "2013    6459\n",
       "2014    6757\n",
       "2015    7107\n",
       "Name: 113_cause_recode, dtype: int64"
      ]
     },
     "execution_count": 35,
     "metadata": {},
     "output_type": "execute_result"
    }
   ],
   "source": [
    "# number of stroke deaths per year\n",
    "stroke_total_year = gb_stroke[\"113_cause_recode\"].count()\n",
    "stroke_total_year"
   ]
  },
  {
   "cell_type": "markdown",
   "metadata": {},
   "source": [
    "## Heart Attack filter"
   ]
  },
  {
   "cell_type": "code",
   "execution_count": 36,
   "metadata": {},
   "outputs": [
    {
     "data": {
      "text/html": [
       "<div>\n",
       "<style scoped>\n",
       "    .dataframe tbody tr th:only-of-type {\n",
       "        vertical-align: middle;\n",
       "    }\n",
       "\n",
       "    .dataframe tbody tr th {\n",
       "        vertical-align: top;\n",
       "    }\n",
       "\n",
       "    .dataframe thead th {\n",
       "        text-align: right;\n",
       "    }\n",
       "</style>\n",
       "<table border=\"1\" class=\"dataframe\">\n",
       "  <thead>\n",
       "    <tr style=\"text-align: right;\">\n",
       "      <th></th>\n",
       "      <th>Unnamed: 0</th>\n",
       "      <th>113_cause_recode</th>\n",
       "      <th>130_infant_cause_recode</th>\n",
       "      <th>358_cause_recode</th>\n",
       "      <th>39_cause_recode</th>\n",
       "      <th>Unnamed: 0.1</th>\n",
       "      <th>Unnamed: 0.1.1</th>\n",
       "      <th>activity_code</th>\n",
       "      <th>age_recode_12</th>\n",
       "      <th>age_recode_27</th>\n",
       "      <th>...</th>\n",
       "      <th>marital_status</th>\n",
       "      <th>method_of_disposition</th>\n",
       "      <th>month_of_death</th>\n",
       "      <th>place_of_death_and_decedents_status</th>\n",
       "      <th>race_recode_3</th>\n",
       "      <th>race_recode_5</th>\n",
       "      <th>resident_status</th>\n",
       "      <th>sex</th>\n",
       "      <th>cause_group</th>\n",
       "      <th>place</th>\n",
       "    </tr>\n",
       "  </thead>\n",
       "  <tbody>\n",
       "    <tr>\n",
       "      <th>14</th>\n",
       "      <td>14</td>\n",
       "      <td>59</td>\n",
       "      <td>NaN</td>\n",
       "      <td>NaN</td>\n",
       "      <td>NaN</td>\n",
       "      <td>7777005</td>\n",
       "      <td>7777005.0</td>\n",
       "      <td>NaN</td>\n",
       "      <td>NaN</td>\n",
       "      <td>NaN</td>\n",
       "      <td>...</td>\n",
       "      <td>S</td>\n",
       "      <td>B</td>\n",
       "      <td>5</td>\n",
       "      <td>2</td>\n",
       "      <td>NaN</td>\n",
       "      <td>4</td>\n",
       "      <td>1</td>\n",
       "      <td>M</td>\n",
       "      <td>Acute myocardial infarction (I21-I22)</td>\n",
       "      <td>Hospital, Clinic or Medical Center - Outpatien...</td>\n",
       "    </tr>\n",
       "  </tbody>\n",
       "</table>\n",
       "<p>1 rows × 33 columns</p>\n",
       "</div>"
      ],
      "text/plain": [
       "    Unnamed: 0  113_cause_recode  130_infant_cause_recode  358_cause_recode  \\\n",
       "14          14                59                      NaN               NaN   \n",
       "\n",
       "    39_cause_recode  Unnamed: 0.1  Unnamed: 0.1.1  activity_code  \\\n",
       "14              NaN       7777005       7777005.0            NaN   \n",
       "\n",
       "    age_recode_12  age_recode_27  \\\n",
       "14            NaN            NaN   \n",
       "\n",
       "                          ...                          marital_status  \\\n",
       "14                        ...                                       S   \n",
       "\n",
       "   method_of_disposition  month_of_death  place_of_death_and_decedents_status  \\\n",
       "14                     B               5                                    2   \n",
       "\n",
       "    race_recode_3  race_recode_5  resident_status  sex  \\\n",
       "14            NaN              4                1    M   \n",
       "\n",
       "                              cause_group  \\\n",
       "14  Acute myocardial infarction (I21-I22)   \n",
       "\n",
       "                                                place  \n",
       "14  Hospital, Clinic or Medical Center - Outpatien...  \n",
       "\n",
       "[1 rows x 33 columns]"
      ]
     },
     "execution_count": 36,
     "metadata": {},
     "output_type": "execute_result"
    }
   ],
   "source": [
    "#filter for Heart Attack, 113_cause recode: 59\n",
    "filter_heart_attack = merge1_df[merge1_df[\"113_cause_recode\"]==59]\n",
    "filter_heart_attack.head(1)"
   ]
  },
  {
   "cell_type": "code",
   "execution_count": 37,
   "metadata": {},
   "outputs": [],
   "source": [
    "# group heart attacks by year\n",
    "gb_heart_attack = filter_heart_attack.groupby(\"current_data_year\")"
   ]
  },
  {
   "cell_type": "code",
   "execution_count": 38,
   "metadata": {},
   "outputs": [
    {
     "data": {
      "text/plain": [
       "current_data_year\n",
       "2005    7600\n",
       "2006    7008\n",
       "2007    6794\n",
       "2008    6737\n",
       "2009    6262\n",
       "2010    6005\n",
       "2011    5958\n",
       "2012    5847\n",
       "2013    6044\n",
       "2014    5698\n",
       "2015    5610\n",
       "Name: 113_cause_recode, dtype: int64"
      ]
     },
     "execution_count": 38,
     "metadata": {},
     "output_type": "execute_result"
    }
   ],
   "source": [
    "# number of stroke deaths per year\n",
    "heart_attack_total_year = gb_heart_attack[\"113_cause_recode\"].count()\n",
    "heart_attack_total_year"
   ]
  },
  {
   "cell_type": "markdown",
   "metadata": {},
   "source": [
    "## Heart Disease Other Filter"
   ]
  },
  {
   "cell_type": "code",
   "execution_count": 39,
   "metadata": {},
   "outputs": [
    {
     "data": {
      "text/html": [
       "<div>\n",
       "<style scoped>\n",
       "    .dataframe tbody tr th:only-of-type {\n",
       "        vertical-align: middle;\n",
       "    }\n",
       "\n",
       "    .dataframe tbody tr th {\n",
       "        vertical-align: top;\n",
       "    }\n",
       "\n",
       "    .dataframe thead th {\n",
       "        text-align: right;\n",
       "    }\n",
       "</style>\n",
       "<table border=\"1\" class=\"dataframe\">\n",
       "  <thead>\n",
       "    <tr style=\"text-align: right;\">\n",
       "      <th></th>\n",
       "      <th>Unnamed: 0</th>\n",
       "      <th>113_cause_recode</th>\n",
       "      <th>130_infant_cause_recode</th>\n",
       "      <th>358_cause_recode</th>\n",
       "      <th>39_cause_recode</th>\n",
       "      <th>Unnamed: 0.1</th>\n",
       "      <th>Unnamed: 0.1.1</th>\n",
       "      <th>activity_code</th>\n",
       "      <th>age_recode_12</th>\n",
       "      <th>age_recode_27</th>\n",
       "      <th>...</th>\n",
       "      <th>marital_status</th>\n",
       "      <th>method_of_disposition</th>\n",
       "      <th>month_of_death</th>\n",
       "      <th>place_of_death_and_decedents_status</th>\n",
       "      <th>race_recode_3</th>\n",
       "      <th>race_recode_5</th>\n",
       "      <th>resident_status</th>\n",
       "      <th>sex</th>\n",
       "      <th>cause_group</th>\n",
       "      <th>place</th>\n",
       "    </tr>\n",
       "  </thead>\n",
       "  <tbody>\n",
       "    <tr>\n",
       "      <th>3</th>\n",
       "      <td>3</td>\n",
       "      <td>68</td>\n",
       "      <td>NaN</td>\n",
       "      <td>NaN</td>\n",
       "      <td>NaN</td>\n",
       "      <td>12325960</td>\n",
       "      <td>12325960.0</td>\n",
       "      <td>NaN</td>\n",
       "      <td>NaN</td>\n",
       "      <td>NaN</td>\n",
       "      <td>...</td>\n",
       "      <td>M</td>\n",
       "      <td>B</td>\n",
       "      <td>1</td>\n",
       "      <td>4</td>\n",
       "      <td>NaN</td>\n",
       "      <td>1</td>\n",
       "      <td>1</td>\n",
       "      <td>M</td>\n",
       "      <td>All other forms of heart disease (I26-I28,I34-...</td>\n",
       "      <td>Decedent’s home</td>\n",
       "    </tr>\n",
       "  </tbody>\n",
       "</table>\n",
       "<p>1 rows × 33 columns</p>\n",
       "</div>"
      ],
      "text/plain": [
       "   Unnamed: 0  113_cause_recode  130_infant_cause_recode  358_cause_recode  \\\n",
       "3           3                68                      NaN               NaN   \n",
       "\n",
       "   39_cause_recode  Unnamed: 0.1  Unnamed: 0.1.1  activity_code  \\\n",
       "3              NaN      12325960      12325960.0            NaN   \n",
       "\n",
       "   age_recode_12  age_recode_27       ...         marital_status  \\\n",
       "3            NaN            NaN       ...                      M   \n",
       "\n",
       "  method_of_disposition  month_of_death  place_of_death_and_decedents_status  \\\n",
       "3                     B               1                                    4   \n",
       "\n",
       "   race_recode_3  race_recode_5  resident_status  sex  \\\n",
       "3            NaN              1                1    M   \n",
       "\n",
       "                                         cause_group            place  \n",
       "3  All other forms of heart disease (I26-I28,I34-...  Decedent’s home  \n",
       "\n",
       "[1 rows x 33 columns]"
      ]
     },
     "execution_count": 39,
     "metadata": {},
     "output_type": "execute_result"
    }
   ],
   "source": [
    "#filter for Heart Disease Other, 113_cause recode: 68\n",
    "filter_heart_disease = merge1_df[merge1_df[\"113_cause_recode\"]==68]\n",
    "filter_heart_disease.head(1)"
   ]
  },
  {
   "cell_type": "code",
   "execution_count": 40,
   "metadata": {},
   "outputs": [],
   "source": [
    "# group heart disease other by year\n",
    "gb_heart_disease = filter_heart_disease.groupby(\"current_data_year\")"
   ]
  },
  {
   "cell_type": "code",
   "execution_count": 41,
   "metadata": {},
   "outputs": [
    {
     "data": {
      "text/plain": [
       "current_data_year\n",
       "2005    5625\n",
       "2006    5345\n",
       "2007    5753\n",
       "2008    5658\n",
       "2009    5933\n",
       "2010    5885\n",
       "2011    6018\n",
       "2012    6182\n",
       "2013    6555\n",
       "2014    6708\n",
       "2015    6983\n",
       "Name: 113_cause_recode, dtype: int64"
      ]
     },
     "execution_count": 41,
     "metadata": {},
     "output_type": "execute_result"
    }
   ],
   "source": [
    "# number of heart disease other deaths per year\n",
    "heart_disease_total_year = gb_heart_disease[\"113_cause_recode\"].count()\n",
    "heart_disease_total_year"
   ]
  },
  {
   "cell_type": "markdown",
   "metadata": {},
   "source": [
    "## ## Heart-Stroke-Alzheimer's Graph"
   ]
  },
  {
   "cell_type": "code",
   "execution_count": 42,
   "metadata": {},
   "outputs": [],
   "source": [
    "# assign additional top ten series totals to y-axis variables\n",
    "points_isc = isc_total_year\n",
    "points_stroke = stroke_total_year\n",
    "points_heart_att = heart_attack_total_year\n",
    "points_heart_dis = heart_disease_total_year"
   ]
  },
  {
   "cell_type": "code",
   "execution_count": 43,
   "metadata": {},
   "outputs": [
    {
     "data": {
      "image/png": "[encoded data removed]",
      "text/plain": [
       "<Figure size 1080x504 with 1 Axes>"
      ]
     },
     "metadata": {
      "needs_background": "light"
     },
     "output_type": "display_data"
    }
   ],
   "source": [
    "# Create a handle for each plot\n",
    "plt.figure(figsize=(15,7))\n",
    "alzheimer, = plt.plot(x_axis, points_alz, marker=\"+\",color=\"blue\", linewidth=1, label=\"Alzheimer's\")\n",
    "heart_isc, = plt.plot(x_axis, points_isc, marker=\"+\", color=\"red\", linewidth=1, label=\"Blood Flow\")\n",
    "stroke, = plt.plot(x_axis, points_stroke, marker=\"+\", color=\"purple\", linewidth=1, label=\"Stroke\")\n",
    "heart_att, = plt.plot(x_axis, points_heart_att, marker=\"+\", color=\"green\", linewidth=1, label=\"Heart Attack\")\n",
    "heart_dis, = plt.plot(x_axis, points_heart_dis, marker=\"+\", color=\"orange\", linewidth=1, label=\"Blood Flow\")\n",
    "# Set our legend to where the chart thinks is best\n",
    "plt.legend(handles=[alzheimer, heart_isc, stroke, heart_att, heart_dis], loc=\"best\")\n",
    "#bbox_to_anchor=(1.05, 1), loc='upper left', borderaxespad=0.)\n",
    "# Create labels for the X and Y axis\n",
    "plt.xlabel(\"Years\")\n",
    "plt.ylabel(\"Deaths\")\n",
    "plt.title(\"Death Cause Type: Alzheimer's compared to Heart Problems & Stroke\")\n",
    "plt.grid()"
   ]
  },
  {
   "cell_type": "markdown",
   "metadata": {},
   "source": [
    "## Alzheimer's Blood Flow & Stroke Graph"
   ]
  },
  {
   "cell_type": "code",
   "execution_count": 44,
   "metadata": {},
   "outputs": [
    {
     "data": {
      "image/png": "[encoded data removed]",
      "text/plain": [
       "<Figure size 1080x504 with 1 Axes>"
      ]
     },
     "metadata": {
      "needs_background": "light"
     },
     "output_type": "display_data"
    }
   ],
   "source": [
    "# Create a handle for each plot\n",
    "plt.figure(figsize=(15,7))\n",
    "alzheimer, = plt.plot(x_axis, points_alz, marker=\"+\",color=\"blue\", linewidth=1, label=\"Alzheimer's\")\n",
    "stroke, = plt.plot(x_axis, points_stroke, marker=\"+\", color=\"purple\", linewidth=1, label=\"Stroke\")\n",
    "heart_dis, = plt.plot(x_axis, points_heart_dis, marker=\"+\", color=\"orange\", linewidth=1, label=\"Blood Flow\")\n",
    "# Set our legend to where the chart thinks is best\n",
    "plt.legend(handles=[alzheimer, stroke, heart_dis], loc=\"best\")\n",
    "# Create labels for the X and Y axis\n",
    "plt.xlabel(\"Years\")\n",
    "plt.ylabel(\"Deaths\")\n",
    "plt.title(\"Death Cause Type: Alzheimer's compared to Stroke & Heart Disease\")\n",
    "plt.grid()"
   ]
  },
  {
   "cell_type": "markdown",
   "metadata": {},
   "source": [
    "## Method of Death"
   ]
  },
  {
   "cell_type": "code",
   "execution_count": 45,
   "metadata": {},
   "outputs": [],
   "source": [
    "# groupby death cause\n",
    "gb_death_method = merge8_df.groupby(\"manner_of_death\")"
   ]
  },
  {
   "cell_type": "code",
   "execution_count": 46,
   "metadata": {},
   "outputs": [
    {
     "data": {
      "text/plain": [
       "manner_of_death\n",
       "1.0     67608\n",
       "2.0     21276\n",
       "3.0     10229\n",
       "4.0      2758\n",
       "5.0      6074\n",
       "7.0    995379\n",
       "Name: current_data_year, dtype: int64"
      ]
     },
     "execution_count": 46,
     "metadata": {},
     "output_type": "execute_result"
    }
   ],
   "source": [
    "death_method_count = gb_death_method[\"current_data_year\"].count()\n",
    "death_method_count"
   ]
  },
  {
   "cell_type": "code",
   "execution_count": 47,
   "metadata": {},
   "outputs": [
    {
     "data": {
      "text/plain": [
       "manner_of_death\n",
       "1.0    0.061277\n",
       "2.0    0.019284\n",
       "3.0    0.009271\n",
       "4.0    0.002500\n",
       "5.0    0.005505\n",
       "7.0    0.902164\n",
       "Name: current_data_year, dtype: float64"
      ]
     },
     "execution_count": 47,
     "metadata": {},
     "output_type": "execute_result"
    }
   ],
   "source": [
    "percent_death_method = death_method_count/total_merge_df_rows\n",
    "percent_death_method"
   ]
  },
  {
   "cell_type": "code",
   "execution_count": 48,
   "metadata": {},
   "outputs": [
    {
     "data": {
      "text/plain": [
       "array(['Natural', 'Homicide', 'Accident', 'Not specified', 'Suicide',\n",
       "       'Could not determine', 'Pending investigation'], dtype=object)"
      ]
     },
     "execution_count": 48,
     "metadata": {},
     "output_type": "execute_result"
    }
   ],
   "source": [
    "# manner_of_death classifications\n",
    "death_methods = merge8_df[\"cause_of_death\"].unique()\n",
    "death_methods"
   ]
  },
  {
   "cell_type": "code",
   "execution_count": 49,
   "metadata": {},
   "outputs": [
    {
     "data": {
      "image/png": "[encoded data removed]",
      "text/plain": [
       "<Figure size 864x864 with 1 Axes>"
      ]
     },
     "metadata": {},
     "output_type": "display_data"
    }
   ],
   "source": [
    "# pie chart based on manner of death\n",
    "plt.figure(figsize=(12,12))\n",
    "explode = (0.02,0.07,0.02,0.02,0.02,0.02)\n",
    "methods = [\"Accident\",\"Suicide\",\"Homicide\",\"Pending investigation\",\"Could not determine\",\"Natural\"]\n",
    "colors = [\"yellow\",\"green\",\"lightblue\",\"orange\",\"red\",\"lightcoral\",\"yellowgreen\",\"pink\"]\n",
    "plt.pie(percent_death_method,labels=methods,explode=explode,colors=colors,autopct=\"%1.1f%%\", shadow=True, startangle=170)\n",
    "plt.title(\"% of Deaths by Method\")\n",
    "plt.axis(\"scaled\")\n",
    "plt.show()"
   ]
  },
  {
   "cell_type": "code",
   "execution_count": null,
   "metadata": {},
   "outputs": [],
   "source": []
  },
  {
   "cell_type": "code",
   "execution_count": 50,
   "metadata": {},
   "outputs": [
    {
     "data": {
      "text/plain": [
       "Text(0, 0.5, 'Deaths')"
      ]
     },
     "execution_count": 50,
     "metadata": {},
     "output_type": "execute_result"
    },
    {
     "data": {
      "image/png": "[encoded data removed]",
      "text/plain": [
       "<Figure size 1008x504 with 1 Axes>"
      ]
     },
     "metadata": {
      "needs_background": "light"
     },
     "output_type": "display_data"
    }
   ],
   "source": [
    "# bar chart by method\n",
    "plt.figure(figsize=(14,7))\n",
    "x_axis = np.arange(len(death_method_count))\n",
    "plt.bar(x_axis,death_method_count, color=\"b\",align=\"center\")\n",
    "tick_locations = [value for value in x_axis]\n",
    "plt.xticks(tick_locations,methods)\n",
    "plt.title(\"Volume of Deaths by Method\")\n",
    "plt.xlabel(\"Years\")\n",
    "plt.ylabel(\"Deaths\")"
   ]
  },
  {
   "cell_type": "markdown",
   "metadata": {},
   "source": [
    "## Method of death: Suicide filter"
   ]
  },
  {
   "cell_type": "code",
   "execution_count": 51,
   "metadata": {},
   "outputs": [
    {
     "data": {
      "text/html": [
       "<div>\n",
       "<style scoped>\n",
       "    .dataframe tbody tr th:only-of-type {\n",
       "        vertical-align: middle;\n",
       "    }\n",
       "\n",
       "    .dataframe tbody tr th {\n",
       "        vertical-align: top;\n",
       "    }\n",
       "\n",
       "    .dataframe thead th {\n",
       "        text-align: right;\n",
       "    }\n",
       "</style>\n",
       "<table border=\"1\" class=\"dataframe\">\n",
       "  <thead>\n",
       "    <tr style=\"text-align: right;\">\n",
       "      <th></th>\n",
       "      <th>Unnamed: 0</th>\n",
       "      <th>113_cause_recode</th>\n",
       "      <th>130_infant_cause_recode</th>\n",
       "      <th>358_cause_recode</th>\n",
       "      <th>39_cause_recode</th>\n",
       "      <th>Unnamed: 0.1</th>\n",
       "      <th>Unnamed: 0.1.1</th>\n",
       "      <th>activity_code</th>\n",
       "      <th>age_recode_12</th>\n",
       "      <th>age_recode_27</th>\n",
       "      <th>...</th>\n",
       "      <th>sex</th>\n",
       "      <th>cause_group</th>\n",
       "      <th>place</th>\n",
       "      <th>marital</th>\n",
       "      <th>month</th>\n",
       "      <th>disposition</th>\n",
       "      <th>education</th>\n",
       "      <th>day_of_week</th>\n",
       "      <th>age_range</th>\n",
       "      <th>cause_of_death</th>\n",
       "    </tr>\n",
       "  </thead>\n",
       "  <tbody>\n",
       "    <tr>\n",
       "      <th>20</th>\n",
       "      <td>20</td>\n",
       "      <td>126</td>\n",
       "      <td>NaN</td>\n",
       "      <td>NaN</td>\n",
       "      <td>NaN</td>\n",
       "      <td>3322213</td>\n",
       "      <td>3322213.0</td>\n",
       "      <td>9.0</td>\n",
       "      <td>NaN</td>\n",
       "      <td>NaN</td>\n",
       "      <td>...</td>\n",
       "      <td>M</td>\n",
       "      <td>1 Intentional self-harm (suicide) by other and...</td>\n",
       "      <td>Decedent’s home</td>\n",
       "      <td>Never married, single</td>\n",
       "      <td>February</td>\n",
       "      <td>Cremation</td>\n",
       "      <td>8th grade or less</td>\n",
       "      <td>Friday</td>\n",
       "      <td>NaN</td>\n",
       "      <td>Suicide</td>\n",
       "    </tr>\n",
       "  </tbody>\n",
       "</table>\n",
       "<p>1 rows × 40 columns</p>\n",
       "</div>"
      ],
      "text/plain": [
       "    Unnamed: 0  113_cause_recode  130_infant_cause_recode  358_cause_recode  \\\n",
       "20          20               126                      NaN               NaN   \n",
       "\n",
       "    39_cause_recode  Unnamed: 0.1  Unnamed: 0.1.1  activity_code  \\\n",
       "20              NaN       3322213       3322213.0            9.0   \n",
       "\n",
       "    age_recode_12  age_recode_27      ...        sex  \\\n",
       "20            NaN            NaN      ...          M   \n",
       "\n",
       "                                          cause_group            place  \\\n",
       "20  1 Intentional self-harm (suicide) by other and...  Decedent’s home   \n",
       "\n",
       "                  marital     month  disposition          education  \\\n",
       "20  Never married, single  February    Cremation  8th grade or less   \n",
       "\n",
       "    day_of_week  age_range cause_of_death  \n",
       "20       Friday        NaN        Suicide  \n",
       "\n",
       "[1 rows x 40 columns]"
      ]
     },
     "execution_count": 51,
     "metadata": {},
     "output_type": "execute_result"
    }
   ],
   "source": [
    "#filter for Suicide, method_of_death code: 68\n",
    "filter_suicide = merge8_df[merge8_df[\"manner_of_death\"]==2]\n",
    "filter_suicide.head(1)"
   ]
  },
  {
   "cell_type": "code",
   "execution_count": 52,
   "metadata": {},
   "outputs": [
    {
     "data": {
      "text/plain": [
       "21276"
      ]
     },
     "execution_count": 52,
     "metadata": {},
     "output_type": "execute_result"
    }
   ],
   "source": [
    "# determine total number of suicides\n",
    "suicide_method_count = filter_suicide[\"113_cause_recode\"].count()\n",
    "suicide_method_count"
   ]
  },
  {
   "cell_type": "code",
   "execution_count": 53,
   "metadata": {},
   "outputs": [],
   "source": [
    "# group suicides by 113_cause_recode classification\n",
    "gb_suicide_cause = filter_suicide.groupby(\"cause_group\")"
   ]
  },
  {
   "cell_type": "markdown",
   "metadata": {},
   "source": [
    "## Suicides by cause_group"
   ]
  },
  {
   "cell_type": "code",
   "execution_count": 54,
   "metadata": {},
   "outputs": [
    {
     "data": {
      "text/plain": [
       "cause_group\n",
       "1 Intentional self-harm (suicide) by discharge of firearms (X72-X74)                                                                    10703\n",
       "1 Intentional self-harm (suicide) by other and unspecified means and their sequelae (*U03,X60-X71,X75-X84,Y87.0)                        10451\n",
       "1 Malignant neoplasm of prostate (C61)                                                                                                      1\n",
       "2 Malignant neoplasm of cervix uteri (C53)                                                                                                  2\n",
       "3 Diabetes mellitus (E10-E14)                                                                                                               2\n",
       "3 Septicemia (A40-A41)                                                                                                                      4\n",
       "Accidental discharge of firearms (W32-W34)                                                                                                  4\n",
       "Accidental drowning and submersion (W65-W74)                                                                                                3\n",
       "Accidental exposure to smoke, fire and flames (X00-X09)                                                                                     2\n",
       "Accidental poisoning and exposure to noxious substances (X40-X49)                                                                          23\n",
       "All other and unspecified malignant neoplasms (C17,C23-C24,C26-C31,C37-C41, C44-C49,C51-C52,C57-C60,C62-C63,C66,C68-C69,C73-C80,C97)        1\n",
       "All other diseases (Residual) (D65-E07,E15-E34,E65-F99,G04-G14,G23-G25,G31-H93,                                                            22\n",
       "All other forms of chronic ischemic heart disease(I20,I25.1-I25.9)                                                                          3\n",
       "All other forms of heart disease (I26-I28,I34-I38,I42-I49,I51)                                                                              5\n",
       "Anemias (D50-D64)                                                                                                                           1\n",
       "Atherosclerotic cardiovascular disease, so described (I25.0)                                                                                3\n",
       "Cerebrovascular diseases (I60-I69)                                                                                                          2\n",
       "Complications of medical and surgical care (Y40-Y84,Y88)                                                                                    4\n",
       "Falls (W00-W19)                                                                                                                             2\n",
       "Hypertensive heart and renal disea                                                                                                          1\n",
       "Hypertensive heart disease (I11)                                                                                                            1\n",
       "Legal intervention(Y35,Y89.0)                                                                                                               1\n",
       "Malignant neoplasms of colon, rectum and anus (C18-C21)                                                                                     1\n",
       "Motor vehicle accidents (V02-V04,V09.0,V09.2,V12-V14,V19.0-V19.2,                                                                           5\n",
       "Other and unspecified events of undetermined intent and their sequelae (Y10-Y21,Y25-Y34,Y87.2,Y89.9)                                        1\n",
       "Other and unspecified nontransport accidents and their sequelae (W20-W31,W35-W64,W75-W99,X10-X39,X50-X59,Y86)                              14\n",
       "Other chronic lower respiratory diseases (J44,J47)                                                                                          1\n",
       "Other diseases of respiratory system (J00-J06,J30-J39,J67,J70-J98)                                                                          1\n",
       "Other land transport accidents (V01,V05-V06,V09.1,V09.3-V09.9, V10-V11,                                                                     6\n",
       "Parkinson's disease (G20-G21)                                                                                                               1\n",
       "Pneumonitis due to solids and liquids (J69)                                                                                                 2\n",
       "Renal failure (N17-N19)                                                                                                                     3\n",
       "Name: cause_group, dtype: int64"
      ]
     },
     "execution_count": 54,
     "metadata": {},
     "output_type": "execute_result"
    }
   ],
   "source": [
    "suicide_cause_count = gb_suicide_cause[\"cause_group\"].count()\n",
    "suicide_cause_count"
   ]
  },
  {
   "cell_type": "code",
   "execution_count": 55,
   "metadata": {},
   "outputs": [
    {
     "data": {
      "text/plain": [
       "M    16596\n",
       "F     4680\n",
       "Name: sex, dtype: int64"
      ]
     },
     "execution_count": 55,
     "metadata": {},
     "output_type": "execute_result"
    }
   ],
   "source": [
    "# suicides by sex\n",
    "suicide_sex_count = filter_suicide[\"sex\"].value_counts()\n",
    "suicide_sex_count"
   ]
  },
  {
   "cell_type": "code",
   "execution_count": 56,
   "metadata": {},
   "outputs": [
    {
     "data": {
      "text/plain": [
       "M    0.780034\n",
       "F    0.219966\n",
       "Name: sex, dtype: float64"
      ]
     },
     "execution_count": 56,
     "metadata": {},
     "output_type": "execute_result"
    }
   ],
   "source": [
    "# calc percent by sex\n",
    "suicide_sex_percent = suicide_sex_count/suicide_method_count\n",
    "suicide_sex_percent"
   ]
  },
  {
   "cell_type": "markdown",
   "metadata": {},
   "source": [
    "## Filter: Suicide"
   ]
  },
  {
   "cell_type": "code",
   "execution_count": 57,
   "metadata": {},
   "outputs": [
    {
     "data": {
      "text/plain": [
       "Index(['Unnamed: 0', '113_cause_recode', '130_infant_cause_recode',\n",
       "       '358_cause_recode', '39_cause_recode', 'Unnamed: 0.1', 'Unnamed: 0.1.1',\n",
       "       'activity_code', 'age_recode_12', 'age_recode_27', 'age_recode_52',\n",
       "       'autopsy', 'current_data_year', 'day_of_week_of_death', 'detail_age',\n",
       "       'detail_age_type', 'education_2003_revision', 'hispanic_origin',\n",
       "       'hispanic_originrace_recode', 'icd_code_10th_revision',\n",
       "       'infant_age_recode_22', 'injury_at_work', 'manner_of_death',\n",
       "       'marital_status', 'method_of_disposition', 'month_of_death',\n",
       "       'place_of_death_and_decedents_status', 'race_recode_3', 'race_recode_5',\n",
       "       'resident_status', 'sex', 'cause_group', 'place', 'marital', 'month',\n",
       "       'disposition', 'education'],\n",
       "      dtype='object')"
      ]
     },
     "execution_count": 57,
     "metadata": {},
     "output_type": "execute_result"
    }
   ],
   "source": [
    "merge5_df.columns"
   ]
  },
  {
   "cell_type": "code",
   "execution_count": 58,
   "metadata": {},
   "outputs": [
    {
     "data": {
      "text/html": [
       "<div>\n",
       "<style scoped>\n",
       "    .dataframe tbody tr th:only-of-type {\n",
       "        vertical-align: middle;\n",
       "    }\n",
       "\n",
       "    .dataframe tbody tr th {\n",
       "        vertical-align: top;\n",
       "    }\n",
       "\n",
       "    .dataframe thead th {\n",
       "        text-align: right;\n",
       "    }\n",
       "</style>\n",
       "<table border=\"1\" class=\"dataframe\">\n",
       "  <thead>\n",
       "    <tr style=\"text-align: right;\">\n",
       "      <th></th>\n",
       "      <th>Unnamed: 0</th>\n",
       "      <th>113_cause_recode</th>\n",
       "      <th>130_infant_cause_recode</th>\n",
       "      <th>358_cause_recode</th>\n",
       "      <th>39_cause_recode</th>\n",
       "      <th>Unnamed: 0.1</th>\n",
       "      <th>Unnamed: 0.1.1</th>\n",
       "      <th>activity_code</th>\n",
       "      <th>age_recode_12</th>\n",
       "      <th>age_recode_27</th>\n",
       "      <th>...</th>\n",
       "      <th>race_recode_3</th>\n",
       "      <th>race_recode_5</th>\n",
       "      <th>resident_status</th>\n",
       "      <th>sex</th>\n",
       "      <th>cause_group</th>\n",
       "      <th>place</th>\n",
       "      <th>marital</th>\n",
       "      <th>month</th>\n",
       "      <th>disposition</th>\n",
       "      <th>education</th>\n",
       "    </tr>\n",
       "  </thead>\n",
       "  <tbody>\n",
       "    <tr>\n",
       "      <th>20</th>\n",
       "      <td>20</td>\n",
       "      <td>126</td>\n",
       "      <td>NaN</td>\n",
       "      <td>NaN</td>\n",
       "      <td>NaN</td>\n",
       "      <td>3322213</td>\n",
       "      <td>3322213.0</td>\n",
       "      <td>9.0</td>\n",
       "      <td>NaN</td>\n",
       "      <td>NaN</td>\n",
       "      <td>...</td>\n",
       "      <td>NaN</td>\n",
       "      <td>2</td>\n",
       "      <td>1</td>\n",
       "      <td>M</td>\n",
       "      <td>1 Intentional self-harm (suicide) by other and...</td>\n",
       "      <td>Decedent’s home</td>\n",
       "      <td>Never married, single</td>\n",
       "      <td>February</td>\n",
       "      <td>Cremation</td>\n",
       "      <td>8th grade or less</td>\n",
       "    </tr>\n",
       "  </tbody>\n",
       "</table>\n",
       "<p>1 rows × 37 columns</p>\n",
       "</div>"
      ],
      "text/plain": [
       "    Unnamed: 0  113_cause_recode  130_infant_cause_recode  358_cause_recode  \\\n",
       "20          20               126                      NaN               NaN   \n",
       "\n",
       "    39_cause_recode  Unnamed: 0.1  Unnamed: 0.1.1  activity_code  \\\n",
       "20              NaN       3322213       3322213.0            9.0   \n",
       "\n",
       "    age_recode_12  age_recode_27        ...          race_recode_3  \\\n",
       "20            NaN            NaN        ...                    NaN   \n",
       "\n",
       "   race_recode_5  resident_status  sex  \\\n",
       "20             2                1    M   \n",
       "\n",
       "                                          cause_group            place  \\\n",
       "20  1 Intentional self-harm (suicide) by other and...  Decedent’s home   \n",
       "\n",
       "                  marital     month  disposition          education  \n",
       "20  Never married, single  February    Cremation  8th grade or less  \n",
       "\n",
       "[1 rows x 37 columns]"
      ]
     },
     "execution_count": 58,
     "metadata": {},
     "output_type": "execute_result"
    }
   ],
   "source": [
    "# group suicides by 113_cause_recode classification\n",
    "filter_suicide_ed = merge5_df[merge5_df[\"manner_of_death\"]==2]\n",
    "filter_suicide_ed.head(1)"
   ]
  },
  {
   "cell_type": "code",
   "execution_count": 59,
   "metadata": {},
   "outputs": [],
   "source": [
    "gb_suicide_ed = filter_suicide_ed.groupby(\"education\")"
   ]
  },
  {
   "cell_type": "code",
   "execution_count": 60,
   "metadata": {},
   "outputs": [
    {
     "data": {
      "text/plain": [
       "education\n",
       "8th grade or less                         655\n",
       "9 - 12th grade, no diploma               1870\n",
       "Associate degree                         1000\n",
       "Bachelor’s degree                        1764\n",
       "Doctorate or professional degree          296\n",
       "Master’s degree                           606\n",
       "Unknown                                   479\n",
       "high school graduate or GED completed    5864\n",
       "some college credit, but no degree       2629\n",
       "Name: education, dtype: int64"
      ]
     },
     "execution_count": 60,
     "metadata": {},
     "output_type": "execute_result"
    }
   ],
   "source": [
    "suicide_ed_count = gb_suicide_ed[\"education\"].count()\n",
    "suicide_ed_count"
   ]
  },
  {
   "cell_type": "code",
   "execution_count": 61,
   "metadata": {},
   "outputs": [
    {
     "data": {
      "text/plain": [
       "education\n",
       "8th grade or less                        0.030786\n",
       "9 - 12th grade, no diploma               0.087892\n",
       "Associate degree                         0.047001\n",
       "Bachelor’s degree                        0.082910\n",
       "Doctorate or professional degree         0.013912\n",
       "Master’s degree                          0.028483\n",
       "Unknown                                  0.022514\n",
       "high school graduate or GED completed    0.275616\n",
       "some college credit, but no degree       0.123566\n",
       "Name: education, dtype: float64"
      ]
     },
     "execution_count": 61,
     "metadata": {},
     "output_type": "execute_result"
    }
   ],
   "source": [
    "suicide_ed_percent = suicide_ed_count/suicide_method_count\n",
    "suicide_ed_percent"
   ]
  },
  {
   "cell_type": "code",
   "execution_count": 62,
   "metadata": {},
   "outputs": [
    {
     "data": {
      "text/plain": [
       "Text(0, 0.5, 'Deaths')"
      ]
     },
     "execution_count": 62,
     "metadata": {},
     "output_type": "execute_result"
    },
    {
     "data": {
      "image/png": "[encoded data removed]",
      "text/plain": [
       "<Figure size 1008x504 with 1 Axes>"
      ]
     },
     "metadata": {
      "needs_background": "light"
     },
     "output_type": "display_data"
    }
   ],
   "source": [
    "# suicide by education bar chart\n",
    "plt.figure(figsize=(14,7))\n",
    "education = [\"Up to 8th Grade\",\"9th thru 12th\",\"Associates\",\"Bachelor's\",\"Doctorate\",\"Masters\",\"Unknown\",\"HS-GED\",\"Some College\"]\n",
    "x_axis = np.arange(len(suicide_ed_count))\n",
    "plt.bar(x_axis,suicide_ed_count, color=\"b\",align=\"center\")\n",
    "tick_locations = [value for value in x_axis]\n",
    "plt.xticks(tick_locations,education)\n",
    "plt.title(\"Suicide by Level of Education\")\n",
    "plt.xlabel(\"Level of Education Completed\")\n",
    "plt.ylabel(\"Deaths\")\n",
    "#plt.grid()"
   ]
  },
  {
   "cell_type": "markdown",
   "metadata": {},
   "source": [
    "## Suicide by Education totals"
   ]
  },
  {
   "cell_type": "code",
   "execution_count": 63,
   "metadata": {},
   "outputs": [],
   "source": [
    "# Annual deaths by level of education\n",
    "gb_suicide_ed_year = filter_suicide_ed.groupby(\"current_data_year\")"
   ]
  },
  {
   "cell_type": "code",
   "execution_count": 64,
   "metadata": {},
   "outputs": [
    {
     "data": {
      "text/plain": [
       "current_data_year\n",
       "2005    1642\n",
       "2006    1720\n",
       "2007    1761\n",
       "2008    1762\n",
       "2009    1931\n",
       "2010    1888\n",
       "2011    2057\n",
       "2012    2027\n",
       "2013    2051\n",
       "2014    2144\n",
       "2015    2293\n",
       "Name: 113_cause_recode, dtype: int64"
      ]
     },
     "execution_count": 64,
     "metadata": {},
     "output_type": "execute_result"
    }
   ],
   "source": [
    "# count the number of suicide deaths per year\n",
    "suicide_ed_total_year = gb_suicide_ed_year[\"113_cause_recode\"].count()\n",
    "suicide_ed_total_year"
   ]
  },
  {
   "cell_type": "markdown",
   "metadata": {},
   "source": [
    "## Filter: Suicide, Education, Grade 8 or less"
   ]
  },
  {
   "cell_type": "code",
   "execution_count": 65,
   "metadata": {},
   "outputs": [],
   "source": [
    "#filter for grade 8 or less deaths, education_2003_revision code: 1\n",
    "filter_grade8_less = filter_suicide_ed[filter_suicide_ed[\"education_2003_revision\"]==1]"
   ]
  },
  {
   "cell_type": "code",
   "execution_count": 66,
   "metadata": {},
   "outputs": [],
   "source": [
    "# group grade 8 filter deaths by year\n",
    "gb_grade8_less = filter_grade8_less.groupby(\"current_data_year\")"
   ]
  },
  {
   "cell_type": "code",
   "execution_count": 67,
   "metadata": {},
   "outputs": [
    {
     "data": {
      "text/plain": [
       "current_data_year\n",
       "2005    34\n",
       "2006    42\n",
       "2007    45\n",
       "2008    48\n",
       "2009    53\n",
       "2010    50\n",
       "2011    65\n",
       "2012    82\n",
       "2013    68\n",
       "2014    88\n",
       "2015    80\n",
       "Name: education_2003_revision, dtype: int64"
      ]
     },
     "execution_count": 67,
     "metadata": {},
     "output_type": "execute_result"
    }
   ],
   "source": [
    "# number of grade 8 or less deaths per year\n",
    "total_grade8_deaths_year = gb_grade8_less[\"education_2003_revision\"].count()\n",
    "total_grade8_deaths_year"
   ]
  },
  {
   "cell_type": "markdown",
   "metadata": {},
   "source": [
    "## Filter: Suicide, Education, 9th thru 12th"
   ]
  },
  {
   "cell_type": "code",
   "execution_count": 68,
   "metadata": {},
   "outputs": [],
   "source": [
    "#filter for 9th - 12th grade deaths, education_2003_revision code: 2\n",
    "filter_9_12 = filter_suicide_ed[filter_suicide_ed[\"education_2003_revision\"]==2]"
   ]
  },
  {
   "cell_type": "code",
   "execution_count": 69,
   "metadata": {},
   "outputs": [],
   "source": [
    "# group 9th thru 12th deaths filter by year\n",
    "gb_9_12_year = filter_9_12.groupby(\"current_data_year\")"
   ]
  },
  {
   "cell_type": "code",
   "execution_count": 70,
   "metadata": {},
   "outputs": [
    {
     "data": {
      "text/plain": [
       "current_data_year\n",
       "2005    103\n",
       "2006    135\n",
       "2007    117\n",
       "2008    126\n",
       "2009    155\n",
       "2010    162\n",
       "2011    187\n",
       "2012    187\n",
       "2013    193\n",
       "2014    233\n",
       "2015    272\n",
       "Name: education_2003_revision, dtype: int64"
      ]
     },
     "execution_count": 70,
     "metadata": {},
     "output_type": "execute_result"
    }
   ],
   "source": [
    "# number of 9th thru 12th deaths per year\n",
    "total_9_12_deaths_year = gb_9_12_year[\"education_2003_revision\"].count()\n",
    "total_9_12_deaths_year"
   ]
  },
  {
   "cell_type": "markdown",
   "metadata": {},
   "source": [
    "## Filter: Suicide, Education, HS-GED"
   ]
  },
  {
   "cell_type": "code",
   "execution_count": 71,
   "metadata": {},
   "outputs": [],
   "source": [
    "#filter for HS-GED deaths, education_2003_revision code: 3\n",
    "filter_hs_ged = filter_suicide_ed[filter_suicide_ed[\"education_2003_revision\"]==3]"
   ]
  },
  {
   "cell_type": "code",
   "execution_count": 72,
   "metadata": {},
   "outputs": [],
   "source": [
    "# group HS-GED deaths filter by year\n",
    "gb_hs_ged_year = filter_hs_ged.groupby(\"current_data_year\")"
   ]
  },
  {
   "cell_type": "code",
   "execution_count": 73,
   "metadata": {},
   "outputs": [
    {
     "data": {
      "text/plain": [
       "current_data_year\n",
       "2005    218\n",
       "2006    303\n",
       "2007    343\n",
       "2008    421\n",
       "2009    455\n",
       "2010    530\n",
       "2011    589\n",
       "2012    654\n",
       "2013    724\n",
       "2014    761\n",
       "2015    866\n",
       "Name: education_2003_revision, dtype: int64"
      ]
     },
     "execution_count": 73,
     "metadata": {},
     "output_type": "execute_result"
    }
   ],
   "source": [
    "# number of HS-GED deaths per year\n",
    "total_hs_ged_year = gb_hs_ged_year[\"education_2003_revision\"].count()\n",
    "total_hs_ged_year"
   ]
  },
  {
   "cell_type": "markdown",
   "metadata": {},
   "source": [
    "## Filter: Suicide, Education, some college"
   ]
  },
  {
   "cell_type": "code",
   "execution_count": 74,
   "metadata": {},
   "outputs": [],
   "source": [
    "#filter for some college deaths, education_2003_revision code: 4\n",
    "filter_some_coll = filter_suicide_ed[filter_suicide_ed[\"education_2003_revision\"]==4]"
   ]
  },
  {
   "cell_type": "code",
   "execution_count": 75,
   "metadata": {},
   "outputs": [],
   "source": [
    "# group some coll deaths filter by year\n",
    "gb_some_coll_year = filter_some_coll.groupby(\"current_data_year\")"
   ]
  },
  {
   "cell_type": "code",
   "execution_count": 76,
   "metadata": {},
   "outputs": [
    {
     "data": {
      "text/plain": [
       "current_data_year\n",
       "2005    113\n",
       "2006    149\n",
       "2007    138\n",
       "2008    184\n",
       "2009    232\n",
       "2010    224\n",
       "2011    255\n",
       "2012    297\n",
       "2013    298\n",
       "2014    344\n",
       "2015    395\n",
       "Name: education_2003_revision, dtype: int64"
      ]
     },
     "execution_count": 76,
     "metadata": {},
     "output_type": "execute_result"
    }
   ],
   "source": [
    "# number of some coll deaths per year\n",
    "total_some_coll_year = gb_some_coll_year[\"education_2003_revision\"].count()\n",
    "total_some_coll_year"
   ]
  },
  {
   "cell_type": "markdown",
   "metadata": {},
   "source": [
    "## Filter: Suicide, Education, Associate"
   ]
  },
  {
   "cell_type": "code",
   "execution_count": 77,
   "metadata": {},
   "outputs": [],
   "source": [
    "#filter for associate deaths, education_2003_revision code: 5\n",
    "filter_associate = filter_suicide_ed[filter_suicide_ed[\"education_2003_revision\"]==5]"
   ]
  },
  {
   "cell_type": "code",
   "execution_count": 78,
   "metadata": {},
   "outputs": [],
   "source": [
    "# group associate deaths by year\n",
    "gb_associate_year = filter_associate.groupby(\"current_data_year\")"
   ]
  },
  {
   "cell_type": "code",
   "execution_count": 79,
   "metadata": {},
   "outputs": [
    {
     "data": {
      "text/plain": [
       "current_data_year\n",
       "2005     24\n",
       "2006     38\n",
       "2007     66\n",
       "2008     65\n",
       "2009     80\n",
       "2010     93\n",
       "2011    101\n",
       "2012    120\n",
       "2013    105\n",
       "2014    141\n",
       "2015    167\n",
       "Name: education_2003_revision, dtype: int64"
      ]
     },
     "execution_count": 79,
     "metadata": {},
     "output_type": "execute_result"
    }
   ],
   "source": [
    "# number of associate deaths per year\n",
    "total_associate_year = gb_associate_year[\"education_2003_revision\"].count()\n",
    "total_associate_year"
   ]
  },
  {
   "cell_type": "markdown",
   "metadata": {},
   "source": [
    "## Filter: Suicide, Education, Bachelor"
   ]
  },
  {
   "cell_type": "code",
   "execution_count": 80,
   "metadata": {},
   "outputs": [],
   "source": [
    "#filter for bachelor deaths, education_2003_revision code: 6\n",
    "filter_bachelor = filter_suicide_ed[filter_suicide_ed[\"education_2003_revision\"]==6]"
   ]
  },
  {
   "cell_type": "code",
   "execution_count": 81,
   "metadata": {},
   "outputs": [],
   "source": [
    "# group bachelor deaths by year\n",
    "gb_bachelor_year = filter_bachelor.groupby(\"current_data_year\")"
   ]
  },
  {
   "cell_type": "code",
   "execution_count": 82,
   "metadata": {},
   "outputs": [
    {
     "data": {
      "text/plain": [
       "current_data_year\n",
       "2005     67\n",
       "2006    106\n",
       "2007     89\n",
       "2008    120\n",
       "2009    138\n",
       "2010    161\n",
       "2011    172\n",
       "2012    193\n",
       "2013    212\n",
       "2014    230\n",
       "2015    276\n",
       "Name: education_2003_revision, dtype: int64"
      ]
     },
     "execution_count": 82,
     "metadata": {},
     "output_type": "execute_result"
    }
   ],
   "source": [
    "# number of bachelor deaths per year\n",
    "total_bachelor_year = gb_bachelor_year[\"education_2003_revision\"].count()\n",
    "total_bachelor_year"
   ]
  },
  {
   "cell_type": "markdown",
   "metadata": {},
   "source": [
    "## Filter: Suicide, Education, Master"
   ]
  },
  {
   "cell_type": "code",
   "execution_count": 83,
   "metadata": {},
   "outputs": [],
   "source": [
    "#filter for Master's deaths, education_2003_revision code: 7\n",
    "filter_master = filter_suicide_ed[filter_suicide_ed[\"education_2003_revision\"]==7]"
   ]
  },
  {
   "cell_type": "code",
   "execution_count": 84,
   "metadata": {},
   "outputs": [],
   "source": [
    "# group Master's deaths by year\n",
    "gb_master_year = filter_master.groupby(\"current_data_year\")"
   ]
  },
  {
   "cell_type": "code",
   "execution_count": 85,
   "metadata": {},
   "outputs": [
    {
     "data": {
      "text/plain": [
       "current_data_year\n",
       "2005    29\n",
       "2006    20\n",
       "2007    39\n",
       "2008    47\n",
       "2009    46\n",
       "2010    51\n",
       "2011    60\n",
       "2012    62\n",
       "2013    83\n",
       "2014    92\n",
       "2015    77\n",
       "Name: education_2003_revision, dtype: int64"
      ]
     },
     "execution_count": 85,
     "metadata": {},
     "output_type": "execute_result"
    }
   ],
   "source": [
    "# number of Master's deaths per year\n",
    "total_master_year = gb_master_year[\"education_2003_revision\"].count()\n",
    "total_master_year"
   ]
  },
  {
   "cell_type": "markdown",
   "metadata": {},
   "source": [
    "## Filter: Suicide, Education, Doctor"
   ]
  },
  {
   "cell_type": "code",
   "execution_count": 86,
   "metadata": {},
   "outputs": [],
   "source": [
    "#filter for Doctor's deaths, education_2003_revision code: 8\n",
    "filter_doctor = filter_suicide_ed[filter_suicide_ed[\"education_2003_revision\"]==8]"
   ]
  },
  {
   "cell_type": "code",
   "execution_count": 87,
   "metadata": {},
   "outputs": [],
   "source": [
    "# group Doctor's deaths by year\n",
    "gb_doctor_year = filter_doctor.groupby(\"current_data_year\")"
   ]
  },
  {
   "cell_type": "code",
   "execution_count": 88,
   "metadata": {},
   "outputs": [
    {
     "data": {
      "text/plain": [
       "current_data_year\n",
       "2005     8\n",
       "2006    17\n",
       "2007    25\n",
       "2008    24\n",
       "2009    20\n",
       "2010    39\n",
       "2011    32\n",
       "2012    35\n",
       "2013    31\n",
       "2014    24\n",
       "2015    41\n",
       "Name: education_2003_revision, dtype: int64"
      ]
     },
     "execution_count": 88,
     "metadata": {},
     "output_type": "execute_result"
    }
   ],
   "source": [
    "# number of Doctor's deaths per year\n",
    "total_doctor_year = gb_doctor_year[\"education_2003_revision\"].count()\n",
    "total_doctor_year"
   ]
  },
  {
   "cell_type": "markdown",
   "metadata": {},
   "source": [
    "## ## Filter: Suicide, Education, unknown"
   ]
  },
  {
   "cell_type": "code",
   "execution_count": 89,
   "metadata": {},
   "outputs": [],
   "source": [
    "#filter for unknown edu deaths, education_2003_revision code: 9\n",
    "filter_unknown = filter_suicide_ed[filter_suicide_ed[\"education_2003_revision\"]==9]"
   ]
  },
  {
   "cell_type": "code",
   "execution_count": 90,
   "metadata": {},
   "outputs": [],
   "source": [
    "# group unknown edu deaths by year\n",
    "gb_unknown_year = filter_unknown.groupby(\"current_data_year\")"
   ]
  },
  {
   "cell_type": "code",
   "execution_count": 91,
   "metadata": {},
   "outputs": [
    {
     "data": {
      "text/plain": [
       "current_data_year\n",
       "2005    14\n",
       "2006    24\n",
       "2007    38\n",
       "2008    94\n",
       "2009    79\n",
       "2010    36\n",
       "2011    31\n",
       "2012    32\n",
       "2013    23\n",
       "2014    42\n",
       "2015    66\n",
       "Name: education_2003_revision, dtype: int64"
      ]
     },
     "execution_count": 91,
     "metadata": {},
     "output_type": "execute_result"
    }
   ],
   "source": [
    "# number of unknown edu deaths per year\n",
    "total_unknown_year = gb_unknown_year[\"education_2003_revision\"].count()\n",
    "total_unknown_year"
   ]
  },
  {
   "cell_type": "markdown",
   "metadata": {},
   "source": [
    "## Suicide by education graph"
   ]
  },
  {
   "cell_type": "code",
   "execution_count": 97,
   "metadata": {},
   "outputs": [
    {
     "data": {
      "text/plain": [
       "array([2005, 2006, 2007, 2008, 2009, 2010, 2011, 2012, 2013, 2014, 2015])"
      ]
     },
     "execution_count": 97,
     "metadata": {},
     "output_type": "execute_result"
    }
   ],
   "source": [
    "# Set x axis to years in data\n",
    "edu_x_axis = np.arange(2005,2016,1)\n",
    "edu_x_axis"
   ]
  },
  {
   "cell_type": "code",
   "execution_count": 93,
   "metadata": {},
   "outputs": [],
   "source": [
    "# assign additional edu totals to y-axis variables\n",
    "points_ed_tot = suicide_ed_total_year\n",
    "points_9_12 = total_9_12_deaths_year\n",
    "points_hs_ged = total_hs_ged_year\n",
    "points_some = total_some_coll_year\n",
    "points_associate = total_associate_year\n",
    "points_bachelor = total_bachelor_year\n",
    "points_master = total_master_year\n",
    "points_doctor = total_doctor_year\n",
    "points_unknown = total_unknown_year"
   ]
  },
  {
   "cell_type": "code",
   "execution_count": 98,
   "metadata": {},
   "outputs": [
    {
     "data": {
      "image/png": "[encoded data removed]",
      "text/plain": [
       "<Figure size 1080x864 with 1 Axes>"
      ]
     },
     "metadata": {
      "needs_background": "light"
     },
     "output_type": "display_data"
    }
   ],
   "source": [
    "# Create a handle for each plot\n",
    "plt.figure(figsize=(15,12))\n",
    "edu, = plt.plot(edu_x_axis, points_ed_tot, marker=\"+\",color=\"black\", linewidth=1, label=\"Total Suicides\")\n",
    "nine12, = plt.plot(edu_x_axis, points_9_12, marker=\"+\",color=\"red\", linewidth=1, label=\"9th - 12th\")\n",
    "hsged, = plt.plot(edu_x_axis, points_hs_ged, marker=\"+\",color=\"orange\", linewidth=1, label=\"HS-GED\")\n",
    "some, = plt.plot(edu_x_axis, points_some, marker=\"+\",color=\"yellow\", linewidth=1, label=\"Some College\")\n",
    "associate, = plt.plot(edu_x_axis, points_associate, marker=\"+\",color=\"purple\", linewidth=1, label=\"Associate's\")\n",
    "bachelor, = plt.plot(edu_x_axis, points_bachelor, marker=\"+\",color=\"green\", linewidth=1, label=\"Bachelor's\")\n",
    "master, = plt.plot(edu_x_axis, points_master, marker=\"+\",color=\"lightblue\", linewidth=1, label=\"Master's\")\n",
    "doctor, = plt.plot(edu_x_axis, points_doctor, marker=\"+\",color=\"blue\", linewidth=1, label=\"Doctor's\")\n",
    "unknown, = plt.plot(edu_x_axis, points_unknown, marker=\"+\",color=\"yellowgreen\", linewidth=1, label=\"Doctor's\")\n",
    "plt.legend(handles=[edu, nine12, hsged, some, associate, bachelor, master, doctor, unknown], loc=\"best\")\n",
    "# Create labels for the X and Y axis\n",
    "plt.xlabel(\"Years\")\n",
    "plt.ylabel(\"Deaths\")\n",
    "plt.title(\"Suicide by Education Level\")\n",
    "plt.grid()"
   ]
  },
  {
   "cell_type": "code",
   "execution_count": 95,
   "metadata": {},
   "outputs": [
    {
     "data": {
      "text/plain": [
       "current_data_year\n",
       "2005    1642\n",
       "2006    1720\n",
       "2007    1761\n",
       "2008    1762\n",
       "2009    1931\n",
       "2010    1888\n",
       "2011    2057\n",
       "2012    2027\n",
       "2013    2051\n",
       "2014    2144\n",
       "2015    2293\n",
       "Name: 113_cause_recode, dtype: int64"
      ]
     },
     "execution_count": 95,
     "metadata": {},
     "output_type": "execute_result"
    }
   ],
   "source": [
    "points_ed_tot"
   ]
  },
  {
   "cell_type": "code",
   "execution_count": 99,
   "metadata": {},
   "outputs": [
    {
     "data": {
      "text/plain": [
       "array([2005, 2006, 2007, 2008, 2009, 2010, 2011, 2012, 2013, 2014, 2015])"
      ]
     },
     "execution_count": 99,
     "metadata": {},
     "output_type": "execute_result"
    }
   ],
   "source": [
    "# checking edu_x_axis w Gerrit\n",
    "edu_x_axis"
   ]
  },
  {
   "cell_type": "code",
   "execution_count": 100,
   "metadata": {},
   "outputs": [
    {
     "data": {
      "text/html": [
       "<div>\n",
       "<style scoped>\n",
       "    .dataframe tbody tr th:only-of-type {\n",
       "        vertical-align: middle;\n",
       "    }\n",
       "\n",
       "    .dataframe tbody tr th {\n",
       "        vertical-align: top;\n",
       "    }\n",
       "\n",
       "    .dataframe thead th {\n",
       "        text-align: right;\n",
       "    }\n",
       "</style>\n",
       "<table border=\"1\" class=\"dataframe\">\n",
       "  <thead>\n",
       "    <tr style=\"text-align: right;\">\n",
       "      <th></th>\n",
       "      <th>Unnamed: 0</th>\n",
       "      <th>113_cause_recode</th>\n",
       "      <th>130_infant_cause_recode</th>\n",
       "      <th>358_cause_recode</th>\n",
       "      <th>39_cause_recode</th>\n",
       "      <th>Unnamed: 0.1</th>\n",
       "      <th>Unnamed: 0.1.1</th>\n",
       "      <th>activity_code</th>\n",
       "      <th>age_recode_12</th>\n",
       "      <th>age_recode_27</th>\n",
       "      <th>...</th>\n",
       "      <th>race_recode_3</th>\n",
       "      <th>race_recode_5</th>\n",
       "      <th>resident_status</th>\n",
       "      <th>sex</th>\n",
       "      <th>cause_group</th>\n",
       "      <th>place</th>\n",
       "      <th>marital</th>\n",
       "      <th>month</th>\n",
       "      <th>disposition</th>\n",
       "      <th>education</th>\n",
       "    </tr>\n",
       "  </thead>\n",
       "  <tbody>\n",
       "    <tr>\n",
       "      <th>20</th>\n",
       "      <td>20</td>\n",
       "      <td>126</td>\n",
       "      <td>NaN</td>\n",
       "      <td>NaN</td>\n",
       "      <td>NaN</td>\n",
       "      <td>3322213</td>\n",
       "      <td>3322213.0</td>\n",
       "      <td>9.0</td>\n",
       "      <td>NaN</td>\n",
       "      <td>NaN</td>\n",
       "      <td>...</td>\n",
       "      <td>NaN</td>\n",
       "      <td>2</td>\n",
       "      <td>1</td>\n",
       "      <td>M</td>\n",
       "      <td>1 Intentional self-harm (suicide) by other and...</td>\n",
       "      <td>Decedent’s home</td>\n",
       "      <td>Never married, single</td>\n",
       "      <td>February</td>\n",
       "      <td>Cremation</td>\n",
       "      <td>8th grade or less</td>\n",
       "    </tr>\n",
       "  </tbody>\n",
       "</table>\n",
       "<p>1 rows × 37 columns</p>\n",
       "</div>"
      ],
      "text/plain": [
       "    Unnamed: 0  113_cause_recode  130_infant_cause_recode  358_cause_recode  \\\n",
       "20          20               126                      NaN               NaN   \n",
       "\n",
       "    39_cause_recode  Unnamed: 0.1  Unnamed: 0.1.1  activity_code  \\\n",
       "20              NaN       3322213       3322213.0            9.0   \n",
       "\n",
       "    age_recode_12  age_recode_27        ...          race_recode_3  \\\n",
       "20            NaN            NaN        ...                    NaN   \n",
       "\n",
       "   race_recode_5  resident_status  sex  \\\n",
       "20             2                1    M   \n",
       "\n",
       "                                          cause_group            place  \\\n",
       "20  1 Intentional self-harm (suicide) by other and...  Decedent’s home   \n",
       "\n",
       "                  marital     month  disposition          education  \n",
       "20  Never married, single  February    Cremation  8th grade or less  \n",
       "\n",
       "[1 rows x 37 columns]"
      ]
     },
     "execution_count": 100,
     "metadata": {},
     "output_type": "execute_result"
    }
   ],
   "source": [
    "# main suicide edu file - from In[58] merge5_df[merge5_df[\"manner_of_death\"]==2]\n",
    "filter_suicide_ed.head(1)"
   ]
  },
  {
   "cell_type": "code",
   "execution_count": 101,
   "metadata": {},
   "outputs": [
    {
     "data": {
      "text/plain": [
       "Index(['Unnamed: 0', '113_cause_recode', '130_infant_cause_recode',\n",
       "       '358_cause_recode', '39_cause_recode', 'Unnamed: 0.1', 'Unnamed: 0.1.1',\n",
       "       'activity_code', 'age_recode_12', 'age_recode_27', 'age_recode_52',\n",
       "       'autopsy', 'current_data_year', 'day_of_week_of_death', 'detail_age',\n",
       "       'detail_age_type', 'education_2003_revision', 'hispanic_origin',\n",
       "       'hispanic_originrace_recode', 'icd_code_10th_revision',\n",
       "       'infant_age_recode_22', 'injury_at_work', 'manner_of_death',\n",
       "       'marital_status', 'method_of_disposition', 'month_of_death',\n",
       "       'place_of_death_and_decedents_status', 'race_recode_3', 'race_recode_5',\n",
       "       'resident_status', 'sex', 'cause_group', 'place', 'marital', 'month',\n",
       "       'disposition', 'education'],\n",
       "      dtype='object')"
      ]
     },
     "execution_count": 101,
     "metadata": {},
     "output_type": "execute_result"
    }
   ],
   "source": [
    "# display column headers\n",
    "filter_suicide_ed.columns"
   ]
  },
  {
   "cell_type": "code",
   "execution_count": 102,
   "metadata": {},
   "outputs": [
    {
     "data": {
      "text/plain": [
       "15163"
      ]
     },
     "execution_count": 102,
     "metadata": {},
     "output_type": "execute_result"
    }
   ],
   "source": [
    "# verify total number of suicides\n",
    "total_suicide = filter_suicide_ed[\"education_2003_revision\"].count()\n",
    "total_suicide"
   ]
  },
  {
   "cell_type": "code",
   "execution_count": 103,
   "metadata": {},
   "outputs": [
    {
     "data": {
      "text/plain": [
       "3.0    5864\n",
       "4.0    2629\n",
       "2.0    1870\n",
       "6.0    1764\n",
       "5.0    1000\n",
       "1.0     655\n",
       "7.0     606\n",
       "9.0     479\n",
       "8.0     296\n",
       "Name: education_2003_revision, dtype: int64"
      ]
     },
     "execution_count": 103,
     "metadata": {},
     "output_type": "execute_result"
    }
   ],
   "source": [
    "# calculate suicide totals by edu class\n",
    "edu_suicide_totals = filter_suicide_ed[\"education_2003_revision\"].value_counts()\n",
    "edu_suicide_totals"
   ]
  },
  {
   "cell_type": "code",
   "execution_count": 104,
   "metadata": {},
   "outputs": [],
   "source": [
    "# calculate percentages based on total pool of deaths by edu class\n",
    "grade_8_percent = (total_grade8_deaths_year/total_suicide)*100\n",
    "grade_9_12_percent = (total_9_12_deaths_year/total_suicide)*100\n",
    "hs_ged_percent = (total_hs_ged_year/total_suicide)*100\n",
    "some_coll_percent = (total_some_coll_year/total_suicide)*100\n",
    "associate_percent = (total_associate_year/total_suicide)*100\n",
    "bachelor_percent = (total_bachelor_year/total_suicide)*100\n",
    "master_percent = (total_master_year/total_suicide)*100\n",
    "doctor_percent = (total_doctor_year/total_suicide)*100\n",
    "unknown_percent = (total_unknown_year/total_suicide)*100"
   ]
  },
  {
   "cell_type": "code",
   "execution_count": 105,
   "metadata": {},
   "outputs": [
    {
     "data": {
      "text/plain": [
       "current_data_year\n",
       "2005    0.092330\n",
       "2006    0.158280\n",
       "2007    0.250610\n",
       "2008    0.619930\n",
       "2009    0.521005\n",
       "2010    0.237420\n",
       "2011    0.204445\n",
       "2012    0.211040\n",
       "2013    0.151685\n",
       "2014    0.276990\n",
       "2015    0.435270\n",
       "Name: education_2003_revision, dtype: float64"
      ]
     },
     "execution_count": 105,
     "metadata": {},
     "output_type": "execute_result"
    }
   ],
   "source": [
    "# validate the last calculation from variables above\n",
    "unknown_percent"
   ]
  },
  {
   "cell_type": "code",
   "execution_count": 106,
   "metadata": {},
   "outputs": [
    {
     "data": {
      "image/png": "[encoded data removed]",
      "text/plain": [
       "<Figure size 1080x864 with 1 Axes>"
      ]
     },
     "metadata": {
      "needs_background": "light"
     },
     "output_type": "display_data"
    }
   ],
   "source": [
    "# re-do of In[98] plt.plot with Seth's stacked plot\n",
    "plt.figure(figsize=(15,12))\n",
    "plt.stackplot(edu_x_axis, doctor_percent,unknown_percent,master_percent,grade_8_percent,associate_percent,bachelor_percent,grade_9_12_percent,some_coll_percent,hs_ged_percent)\n",
    "plt.xlabel(\"Years\")\n",
    "plt.ylabel(\"Number of Suicides\")\n",
    "plt.show()"
   ]
  },
  {
   "cell_type": "code",
   "execution_count": 107,
   "metadata": {},
   "outputs": [
    {
     "data": {
      "text/plain": [
       "Index(['manner_of_death', 'cause_of_death'], dtype='object')"
      ]
     },
     "execution_count": 107,
     "metadata": {},
     "output_type": "execute_result"
    }
   ],
   "source": [
    "# check cause_df columns\n",
    "cause_df.columns"
   ]
  },
  {
   "cell_type": "code",
   "execution_count": 108,
   "metadata": {},
   "outputs": [
    {
     "data": {
      "text/plain": [
       "3.0    400500\n",
       "1.0    123319\n",
       "4.0    116041\n",
       "2.0    110461\n",
       "6.0     91733\n",
       "5.0     50868\n",
       "7.0     34977\n",
       "9.0     33569\n",
       "8.0     15359\n",
       "Name: education_2003_revision, dtype: int64"
      ]
     },
     "execution_count": 108,
     "metadata": {},
     "output_type": "execute_result"
    }
   ],
   "source": [
    "# display total pool of deaths by edu class\n",
    "total_edu_pool = merge1_df[\"education_2003_revision\"].value_counts()\n",
    "total_edu_pool"
   ]
  },
  {
   "cell_type": "code",
   "execution_count": 109,
   "metadata": {},
   "outputs": [
    {
     "data": {
      "text/plain": [
       "1.0    0.531143\n",
       "2.0    1.692905\n",
       "3.0    1.464170\n",
       "4.0    2.265579\n",
       "5.0    1.965872\n",
       "6.0    1.922972\n",
       "7.0    1.732567\n",
       "8.0    1.927209\n",
       "9.0    1.426912\n",
       "Name: education_2003_revision, dtype: float64"
      ]
     },
     "execution_count": 109,
     "metadata": {},
     "output_type": "execute_result"
    }
   ],
   "source": [
    "# calculate percent of suicides by total pool of death methods\n",
    "ed_suicide_percent = (edu_suicide_totals/total_edu_pool)*100\n",
    "ed_suicide_percent"
   ]
  },
  {
   "cell_type": "code",
   "execution_count": null,
   "metadata": {},
   "outputs": [],
   "source": []
  },
  {
   "cell_type": "code",
   "execution_count": null,
   "metadata": {},
   "outputs": [],
   "source": []
  },
  {
   "cell_type": "code",
   "execution_count": null,
   "metadata": {},
   "outputs": [],
   "source": []
  }
 ],
 "metadata": {
  "kernelspec": {
   "display_name": "Python 3",
   "language": "python",
   "name": "python3"
  },
  "language_info": {
   "codemirror_mode": {
    "name": "ipython",
    "version": 3
   },
   "file_extension": ".py",
   "mimetype": "text/x-python",
   "name": "python",
   "nbconvert_exporter": "python",
   "pygments_lexer": "ipython3",
   "version": "3.7.1"
  }
 },
 "nbformat": 4,
 "nbformat_minor": 2
}
